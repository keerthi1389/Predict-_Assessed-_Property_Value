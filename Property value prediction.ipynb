{
 "cells": [
  {
   "cell_type": "code",
   "execution_count": 57,
   "metadata": {
    "id": "Byh6paxhiGPy"
   },
   "outputs": [],
   "source": [
    "#importing packages\n",
    "import pandas as pd\n",
    "import numpy as np\n",
    "\n",
    "from sklearn.model_selection import train_test_split\n",
    "from datetime import date\n",
    "import datetime\n",
    "\n",
    "from sklearn.preprocessing import LabelEncoder,OneHotEncoder\n",
    "from sklearn.preprocessing import OneHotEncoder\n",
    "from sklearn.impute import SimpleImputer\n",
    "from sklearn.pipeline import Pipeline,FeatureUnion\n",
    "from sklearn.model_selection import GridSearchCV, cross_val_score, StratifiedKFold\n",
    "from sklearn.compose import ColumnTransformer\n",
    "from sklearn.base import BaseEstimator,TransformerMixin\n",
    "from imblearn.over_sampling import SMOTE\n",
    "from sklearn.pipeline import Pipeline,FeatureUnion\n",
    "\n",
    "\n",
    "from sklearn.model_selection import KFold\n",
    "from sklearn.model_selection import cross_val_score\n",
    "from sklearn.model_selection import GridSearchCV\n",
    "from sklearn.metrics import classification_report\n",
    "\n",
    "from sklearn.linear_model import LinearRegression,Lasso,Ridge\n",
    "from sklearn.metrics import mean_squared_error,r2_score\n",
    "from mlxtend.plotting import plot_learning_curves\n",
    "from sklearn.ensemble import RandomForestRegressor\n",
    "from sklearn.svm import SVR\n",
    "from xgboost import XGBRegressor\n",
    "from sklearn.neighbors import KNeighborsRegressor\n",
    "from sklearn.tree import DecisionTreeRegressor\n",
    "from sklearn.svm import SVR\n",
    "\n",
    "from sklearn.tree import DecisionTreeClassifier\n",
    "from sklearn.ensemble import RandomForestClassifier\n",
    "from sklearn.svm import SVC\n",
    "from sklearn.linear_model import LogisticRegression\n",
    "\n",
    "\n",
    "\n",
    "import seaborn as sns\n",
    "import matplotlib.pyplot as plt \n",
    "%matplotlib inline\n"
   ]
  },
  {
   "cell_type": "code",
   "execution_count": 72,
   "metadata": {
    "id": "pjJT3edJiHM9"
   },
   "outputs": [],
   "source": [
    "#importing data set\n",
    "df=pd.read_excel(\"/content/Train.xlsx\")\n",
    "df1 = pd.read_excel(\"/content/Test.xlsx\")"
   ]
  },
  {
   "cell_type": "code",
   "execution_count": 73,
   "metadata": {
    "colab": {
     "base_uri": "https://localhost:8080/",
     "height": 409
    },
    "id": "dj39uSc1iHOl",
    "outputId": "2402e97f-eca2-4dcc-aa35-b07c9224ec09"
   },
   "outputs": [
    {
     "data": {
      "text/html": [
       "\n",
       "  <div id=\"df-9ae5d089-03a5-46d3-b8ba-88a3f1eb71e5\">\n",
       "    <div class=\"colab-df-container\">\n",
       "      <div>\n",
       "<style scoped>\n",
       "    .dataframe tbody tr th:only-of-type {\n",
       "        vertical-align: middle;\n",
       "    }\n",
       "\n",
       "    .dataframe tbody tr th {\n",
       "        vertical-align: top;\n",
       "    }\n",
       "\n",
       "    .dataframe thead th {\n",
       "        text-align: right;\n",
       "    }\n",
       "</style>\n",
       "<table border=\"1\" class=\"dataframe\">\n",
       "  <thead>\n",
       "    <tr style=\"text-align: right;\">\n",
       "      <th></th>\n",
       "      <th>PropertyID</th>\n",
       "      <th>Borough</th>\n",
       "      <th>State</th>\n",
       "      <th>Surroundings</th>\n",
       "      <th>Address</th>\n",
       "      <th>ZipCode</th>\n",
       "      <th>Block</th>\n",
       "      <th>Lot</th>\n",
       "      <th>BldgClassCategory</th>\n",
       "      <th>NoOfResidentialUnits</th>\n",
       "      <th>NoOfCommercialUnits</th>\n",
       "      <th>TotalNoOfUnits</th>\n",
       "      <th>LandAreaInSqFt</th>\n",
       "      <th>GrossAreaInSqFt</th>\n",
       "      <th>YearOfConstruction</th>\n",
       "      <th>TaxClass_AtEvaluationTime</th>\n",
       "      <th>BldgClass_AtEvaluationTime</th>\n",
       "      <th>DateOfEvaluation</th>\n",
       "      <th>PropertyEvaluationvalue</th>\n",
       "    </tr>\n",
       "  </thead>\n",
       "  <tbody>\n",
       "    <tr>\n",
       "      <th>0</th>\n",
       "      <td>PR11101</td>\n",
       "      <td>1</td>\n",
       "      <td>NY</td>\n",
       "      <td>BATHGATE</td>\n",
       "      <td>1473 CROTONA PLACE</td>\n",
       "      <td>10456</td>\n",
       "      <td>2927</td>\n",
       "      <td>127</td>\n",
       "      <td>02 TWO FAMILY DWELLINGS</td>\n",
       "      <td>2</td>\n",
       "      <td>0</td>\n",
       "      <td>2</td>\n",
       "      <td>1900</td>\n",
       "      <td>2394</td>\n",
       "      <td>1990</td>\n",
       "      <td>1</td>\n",
       "      <td>B1</td>\n",
       "      <td>2014-05-30</td>\n",
       "      <td>540000</td>\n",
       "    </tr>\n",
       "    <tr>\n",
       "      <th>1</th>\n",
       "      <td>PR11102</td>\n",
       "      <td>1</td>\n",
       "      <td>NY</td>\n",
       "      <td>BATHGATE</td>\n",
       "      <td>453 EAST 181</td>\n",
       "      <td>10457</td>\n",
       "      <td>3037</td>\n",
       "      <td>110</td>\n",
       "      <td>03 THREE FAMILY DWELLINGS</td>\n",
       "      <td>3</td>\n",
       "      <td>0</td>\n",
       "      <td>3</td>\n",
       "      <td>1687</td>\n",
       "      <td>3037</td>\n",
       "      <td>2002</td>\n",
       "      <td>1</td>\n",
       "      <td>C0</td>\n",
       "      <td>2014-09-13</td>\n",
       "      <td>750000</td>\n",
       "    </tr>\n",
       "    <tr>\n",
       "      <th>2</th>\n",
       "      <td>PR11103</td>\n",
       "      <td>1</td>\n",
       "      <td>NY</td>\n",
       "      <td>BATHGATE</td>\n",
       "      <td>511 EAST 171 STREET</td>\n",
       "      <td>10457</td>\n",
       "      <td>2912</td>\n",
       "      <td>155</td>\n",
       "      <td>02 TWO FAMILY DWELLINGS</td>\n",
       "      <td>2</td>\n",
       "      <td>0</td>\n",
       "      <td>2</td>\n",
       "      <td>2000</td>\n",
       "      <td>2400</td>\n",
       "      <td>1989</td>\n",
       "      <td>1</td>\n",
       "      <td>B1</td>\n",
       "      <td>2014-09-28</td>\n",
       "      <td>470000</td>\n",
       "    </tr>\n",
       "    <tr>\n",
       "      <th>3</th>\n",
       "      <td>PR11104</td>\n",
       "      <td>1</td>\n",
       "      <td>NY</td>\n",
       "      <td>BATHGATE</td>\n",
       "      <td>547 CLAREMONT PARKWAY</td>\n",
       "      <td>10457</td>\n",
       "      <td>2929</td>\n",
       "      <td>134</td>\n",
       "      <td>02 TWO FAMILY DWELLINGS</td>\n",
       "      <td>2</td>\n",
       "      <td>0</td>\n",
       "      <td>2</td>\n",
       "      <td>2356</td>\n",
       "      <td>2394</td>\n",
       "      <td>1991</td>\n",
       "      <td>1</td>\n",
       "      <td>B1</td>\n",
       "      <td>2014-06-05</td>\n",
       "      <td>570000</td>\n",
       "    </tr>\n",
       "    <tr>\n",
       "      <th>4</th>\n",
       "      <td>PR11105</td>\n",
       "      <td>1</td>\n",
       "      <td>NY</td>\n",
       "      <td>BATHGATE</td>\n",
       "      <td>2063 WASHINGTON AVENUE</td>\n",
       "      <td>10457</td>\n",
       "      <td>3036</td>\n",
       "      <td>140</td>\n",
       "      <td>02 TWO FAMILY DWELLINGS</td>\n",
       "      <td>2</td>\n",
       "      <td>0</td>\n",
       "      <td>2</td>\n",
       "      <td>3346</td>\n",
       "      <td>2308</td>\n",
       "      <td>1993</td>\n",
       "      <td>1</td>\n",
       "      <td>B1</td>\n",
       "      <td>2015-02-07</td>\n",
       "      <td>640000</td>\n",
       "    </tr>\n",
       "  </tbody>\n",
       "</table>\n",
       "</div>\n",
       "      <button class=\"colab-df-convert\" onclick=\"convertToInteractive('df-9ae5d089-03a5-46d3-b8ba-88a3f1eb71e5')\"\n",
       "              title=\"Convert this dataframe to an interactive table.\"\n",
       "              style=\"display:none;\">\n",
       "        \n",
       "  <svg xmlns=\"http://www.w3.org/2000/svg\" height=\"24px\"viewBox=\"0 0 24 24\"\n",
       "       width=\"24px\">\n",
       "    <path d=\"M0 0h24v24H0V0z\" fill=\"none\"/>\n",
       "    <path d=\"M18.56 5.44l.94 2.06.94-2.06 2.06-.94-2.06-.94-.94-2.06-.94 2.06-2.06.94zm-11 1L8.5 8.5l.94-2.06 2.06-.94-2.06-.94L8.5 2.5l-.94 2.06-2.06.94zm10 10l.94 2.06.94-2.06 2.06-.94-2.06-.94-.94-2.06-.94 2.06-2.06.94z\"/><path d=\"M17.41 7.96l-1.37-1.37c-.4-.4-.92-.59-1.43-.59-.52 0-1.04.2-1.43.59L10.3 9.45l-7.72 7.72c-.78.78-.78 2.05 0 2.83L4 21.41c.39.39.9.59 1.41.59.51 0 1.02-.2 1.41-.59l7.78-7.78 2.81-2.81c.8-.78.8-2.07 0-2.86zM5.41 20L4 18.59l7.72-7.72 1.47 1.35L5.41 20z\"/>\n",
       "  </svg>\n",
       "      </button>\n",
       "      \n",
       "  <style>\n",
       "    .colab-df-container {\n",
       "      display:flex;\n",
       "      flex-wrap:wrap;\n",
       "      gap: 12px;\n",
       "    }\n",
       "\n",
       "    .colab-df-convert {\n",
       "      background-color: #E8F0FE;\n",
       "      border: none;\n",
       "      border-radius: 50%;\n",
       "      cursor: pointer;\n",
       "      display: none;\n",
       "      fill: #1967D2;\n",
       "      height: 32px;\n",
       "      padding: 0 0 0 0;\n",
       "      width: 32px;\n",
       "    }\n",
       "\n",
       "    .colab-df-convert:hover {\n",
       "      background-color: #E2EBFA;\n",
       "      box-shadow: 0px 1px 2px rgba(60, 64, 67, 0.3), 0px 1px 3px 1px rgba(60, 64, 67, 0.15);\n",
       "      fill: #174EA6;\n",
       "    }\n",
       "\n",
       "    [theme=dark] .colab-df-convert {\n",
       "      background-color: #3B4455;\n",
       "      fill: #D2E3FC;\n",
       "    }\n",
       "\n",
       "    [theme=dark] .colab-df-convert:hover {\n",
       "      background-color: #434B5C;\n",
       "      box-shadow: 0px 1px 3px 1px rgba(0, 0, 0, 0.15);\n",
       "      filter: drop-shadow(0px 1px 2px rgba(0, 0, 0, 0.3));\n",
       "      fill: #FFFFFF;\n",
       "    }\n",
       "  </style>\n",
       "\n",
       "      <script>\n",
       "        const buttonEl =\n",
       "          document.querySelector('#df-9ae5d089-03a5-46d3-b8ba-88a3f1eb71e5 button.colab-df-convert');\n",
       "        buttonEl.style.display =\n",
       "          google.colab.kernel.accessAllowed ? 'block' : 'none';\n",
       "\n",
       "        async function convertToInteractive(key) {\n",
       "          const element = document.querySelector('#df-9ae5d089-03a5-46d3-b8ba-88a3f1eb71e5');\n",
       "          const dataTable =\n",
       "            await google.colab.kernel.invokeFunction('convertToInteractive',\n",
       "                                                     [key], {});\n",
       "          if (!dataTable) return;\n",
       "\n",
       "          const docLinkHtml = 'Like what you see? Visit the ' +\n",
       "            '<a target=\"_blank\" href=https://colab.research.google.com/notebooks/data_table.ipynb>data table notebook</a>'\n",
       "            + ' to learn more about interactive tables.';\n",
       "          element.innerHTML = '';\n",
       "          dataTable['output_type'] = 'display_data';\n",
       "          await google.colab.output.renderOutput(dataTable, element);\n",
       "          const docLink = document.createElement('div');\n",
       "          docLink.innerHTML = docLinkHtml;\n",
       "          element.appendChild(docLink);\n",
       "        }\n",
       "      </script>\n",
       "    </div>\n",
       "  </div>\n",
       "  "
      ],
      "text/plain": [
       "  PropertyID  Borough State Surroundings                 Address  ZipCode  \\\n",
       "0    PR11101        1    NY     BATHGATE      1473 CROTONA PLACE    10456   \n",
       "1    PR11102        1    NY     BATHGATE            453 EAST 181    10457   \n",
       "2    PR11103        1    NY     BATHGATE     511 EAST 171 STREET    10457   \n",
       "3    PR11104        1    NY     BATHGATE   547 CLAREMONT PARKWAY    10457   \n",
       "4    PR11105        1    NY     BATHGATE  2063 WASHINGTON AVENUE    10457   \n",
       "\n",
       "   Block  Lot          BldgClassCategory  NoOfResidentialUnits  \\\n",
       "0   2927  127    02 TWO FAMILY DWELLINGS                     2   \n",
       "1   3037  110  03 THREE FAMILY DWELLINGS                     3   \n",
       "2   2912  155    02 TWO FAMILY DWELLINGS                     2   \n",
       "3   2929  134    02 TWO FAMILY DWELLINGS                     2   \n",
       "4   3036  140    02 TWO FAMILY DWELLINGS                     2   \n",
       "\n",
       "   NoOfCommercialUnits  TotalNoOfUnits  LandAreaInSqFt  GrossAreaInSqFt  \\\n",
       "0                    0               2            1900             2394   \n",
       "1                    0               3            1687             3037   \n",
       "2                    0               2            2000             2400   \n",
       "3                    0               2            2356             2394   \n",
       "4                    0               2            3346             2308   \n",
       "\n",
       "   YearOfConstruction  TaxClass_AtEvaluationTime BldgClass_AtEvaluationTime  \\\n",
       "0                1990                          1                         B1   \n",
       "1                2002                          1                         C0   \n",
       "2                1989                          1                         B1   \n",
       "3                1991                          1                         B1   \n",
       "4                1993                          1                         B1   \n",
       "\n",
       "  DateOfEvaluation  PropertyEvaluationvalue  \n",
       "0       2014-05-30                   540000  \n",
       "1       2014-09-13                   750000  \n",
       "2       2014-09-28                   470000  \n",
       "3       2014-06-05                   570000  \n",
       "4       2015-02-07                   640000  "
      ]
     },
     "execution_count": 73,
     "metadata": {},
     "output_type": "execute_result"
    }
   ],
   "source": [
    "df.head(5)"
   ]
  },
  {
   "cell_type": "code",
   "execution_count": 74,
   "metadata": {
    "colab": {
     "base_uri": "https://localhost:8080/"
    },
    "id": "sLRekrr6iHR9",
    "outputId": "afa43d7b-3fd4-435e-99c7-94e590eff4a6"
   },
   "outputs": [
    {
     "data": {
      "text/plain": [
       "Index(['PropertyID', 'Borough', 'State', 'Surroundings', 'Address', 'ZipCode',\n",
       "       'Block', 'Lot', 'BldgClassCategory', 'NoOfResidentialUnits',\n",
       "       'NoOfCommercialUnits', 'TotalNoOfUnits', 'LandAreaInSqFt',\n",
       "       'GrossAreaInSqFt', 'YearOfConstruction', 'TaxClass_AtEvaluationTime',\n",
       "       'BldgClass_AtEvaluationTime', 'DateOfEvaluation',\n",
       "       'PropertyEvaluationvalue'],\n",
       "      dtype='object')"
      ]
     },
     "execution_count": 74,
     "metadata": {},
     "output_type": "execute_result"
    }
   ],
   "source": [
    "df.columns"
   ]
  },
  {
   "cell_type": "code",
   "execution_count": 75,
   "metadata": {
    "colab": {
     "base_uri": "https://localhost:8080/"
    },
    "id": "9OO9Sj_Qo2aS",
    "outputId": "40864fa5-d4f1-4b0e-dad2-9b208511d32a"
   },
   "outputs": [
    {
     "name": "stdout",
     "output_type": "stream",
     "text": [
      "PropertyID                            object\n",
      "Borough                                int64\n",
      "State                                 object\n",
      "Surroundings                          object\n",
      "Address                               object\n",
      "ZipCode                                int64\n",
      "Block                                  int64\n",
      "Lot                                    int64\n",
      "BldgClassCategory                     object\n",
      "NoOfResidentialUnits                   int64\n",
      "NoOfCommercialUnits                    int64\n",
      "TotalNoOfUnits                         int64\n",
      "LandAreaInSqFt                         int64\n",
      "GrossAreaInSqFt                        int64\n",
      "YearOfConstruction                     int64\n",
      "TaxClass_AtEvaluationTime              int64\n",
      "BldgClass_AtEvaluationTime            object\n",
      "DateOfEvaluation              datetime64[ns]\n",
      "PropertyEvaluationvalue                int64\n",
      "dtype: object\n"
     ]
    }
   ],
   "source": [
    "print(df.dtypes)"
   ]
  },
  {
   "cell_type": "code",
   "execution_count": 76,
   "metadata": {
    "colab": {
     "base_uri": "https://localhost:8080/"
    },
    "id": "t0w38WcNo2iv",
    "outputId": "d906eaa0-6393-488a-e1dd-0e829400f8fe"
   },
   "outputs": [
    {
     "name": "stdout",
     "output_type": "stream",
     "text": [
      "(16810, 19)\n"
     ]
    }
   ],
   "source": [
    "print(df.shape)"
   ]
  },
  {
   "cell_type": "code",
   "execution_count": 77,
   "metadata": {
    "id": "r74KBovHiHTt"
   },
   "outputs": [],
   "source": [
    "#finding missing values\n",
    "missing_value=[\"?\"]\n",
    "df=pd.read_excel('/content/Train.xlsx',na_values=missing_value)"
   ]
  },
  {
   "cell_type": "code",
   "execution_count": 78,
   "metadata": {
    "colab": {
     "base_uri": "https://localhost:8080/"
    },
    "id": "vw2KZ3LqiHXQ",
    "outputId": "bd3331c5-75f7-4515-a784-8e403bf9dda2"
   },
   "outputs": [
    {
     "data": {
      "text/plain": [
       "PropertyID                    0\n",
       "Borough                       0\n",
       "State                         0\n",
       "Surroundings                  0\n",
       "Address                       0\n",
       "ZipCode                       0\n",
       "Block                         0\n",
       "Lot                           0\n",
       "BldgClassCategory             0\n",
       "NoOfResidentialUnits          0\n",
       "NoOfCommercialUnits           0\n",
       "TotalNoOfUnits                0\n",
       "LandAreaInSqFt                0\n",
       "GrossAreaInSqFt               0\n",
       "YearOfConstruction            0\n",
       "TaxClass_AtEvaluationTime     0\n",
       "BldgClass_AtEvaluationTime    0\n",
       "DateOfEvaluation              0\n",
       "PropertyEvaluationvalue       0\n",
       "dtype: int64"
      ]
     },
     "execution_count": 78,
     "metadata": {},
     "output_type": "execute_result"
    }
   ],
   "source": [
    "df.isnull().sum()"
   ]
  },
  {
   "cell_type": "code",
   "execution_count": 79,
   "metadata": {
    "colab": {
     "base_uri": "https://localhost:8080/"
    },
    "id": "dcwGlUBIiHZR",
    "outputId": "fd8ddb7c-3c89-4fa0-e7ed-47c30ac55f20"
   },
   "outputs": [
    {
     "data": {
      "text/plain": [
       "Index(['Borough', 'ZipCode', 'Block', 'Lot', 'NoOfResidentialUnits',\n",
       "       'NoOfCommercialUnits', 'TotalNoOfUnits', 'LandAreaInSqFt',\n",
       "       'GrossAreaInSqFt', 'YearOfConstruction', 'TaxClass_AtEvaluationTime',\n",
       "       'PropertyEvaluationvalue'],\n",
       "      dtype='object')"
      ]
     },
     "execution_count": 79,
     "metadata": {},
     "output_type": "execute_result"
    }
   ],
   "source": [
    "num_cols=df._get_numeric_data().columns\n",
    "num_cols"
   ]
  },
  {
   "cell_type": "code",
   "execution_count": 80,
   "metadata": {
    "id": "nM6dpoDsrpSk"
   },
   "outputs": [],
   "source": [
    "def convert_to_cat(X_trn,X_tst,cols):\n",
    "    X_trn[cols]=X_trn[cols].astype('category')\n",
    "    X_tst[cols]=X_tst[cols].astype('category')\n",
    "    return(X_trn,X_tst)"
   ]
  },
  {
   "cell_type": "code",
   "execution_count": 81,
   "metadata": {
    "id": "pzxSPsuyrpUk"
   },
   "outputs": [],
   "source": [
    "def convert_obj_to_cat(X):\n",
    "    X_cat_cols=X.columns[X.dtypes=='object'].tolist()\n",
    "    X[X_cat_cols]=X[X_cat_cols].astype('category')\n",
    "    return X"
   ]
  },
  {
   "cell_type": "code",
   "execution_count": 82,
   "metadata": {
    "id": "9f5rnmmDrpYR"
   },
   "outputs": [],
   "source": [
    "def convert_dtypes(X_trn,X_tst):\n",
    "    X_trn=convert_obj_to_cat(X_trn)\n",
    "    X_tst=convert_obj_to_cat(X_tst)\n",
    "    return(X_trn,X_tst)\n",
    "\n",
    "def get_cat_num_cols(X):\n",
    "    X_cat_cols=X.columns[X.dtypes=='category'].tolist()\n",
    "    X_num_cols=X.columns[~(X.dtypes=='category')].tolist()\n",
    "    return (X_cat_cols,X_num_cols)"
   ]
  },
  {
   "cell_type": "code",
   "execution_count": 83,
   "metadata": {
    "id": "D9pN1oUWsJTR"
   },
   "outputs": [],
   "source": [
    "def show_cats_in_catcols(X_trn,X_tst,cat_col_list):\n",
    "    for col in cat_col_list:\n",
    "        labels = X_trn[col].astype('category').cat.categories.tolist()\n",
    "        trn_labels=labels\n",
    "        #print(labels)\n",
    "        replace_map_comp = {col : {k: v for k,v in zip(labels,list(range(1,len(labels)+1)))}}\n",
    "        #print(replace_map_comp)\n",
    "        #print(replace_map_comp[col].keys())\n",
    "        \n",
    "        labels = X_tst[col].astype('category').cat.categories.tolist()\n",
    "        tst_labels=labels\n",
    "        missing=[]\n",
    "        extra=[]\n",
    "        extra=extra+[x for x in tst_labels if x not in trn_labels]\n",
    "        missing=missing+[x for x in trn_labels if x not in tst_labels]\n",
    "        #print(labels)\n",
    "        print(\"---------------------------\")\n",
    "        print(\"Column=\",col)\n",
    "        print('missing in tst=',missing)\n",
    "        print('missing in trn=',extra)\n",
    "        print(\"---------------------------\")\n",
    "        labels=trn_labels+extra\n",
    "        replace_map_comp = {col : {k: v for k,v in zip(labels,list(range(1,len(labels)+1)))}}\n",
    "        #print(replace_map_comp)\n",
    "        #print(replace_map_comp[col].keys())\n",
    "        print('')"
   ]
  },
  {
   "cell_type": "code",
   "execution_count": 84,
   "metadata": {
    "id": "e1mDXKTIsJcf"
   },
   "outputs": [],
   "source": [
    "def get_box_plot(data,col1,col2):\n",
    "    sns.boxplot(data[col1],data[col2])\n",
    "    plt.show()\n",
    "\n",
    "def get_dist_plot(data,col):\n",
    "    sns.distplot(data[col])\n",
    "    plt.show()\n",
    "    \n",
    "def get_scatter_plot(data,col1,col2):\n",
    "    plt.scatter(data[col1],data[col2])\n",
    "    plt.show()\n",
    "\n",
    "def get_joint_plot(data,col1,col2):\n",
    "    sns.jointplot(data[col1],data[col2])\n",
    "    plt.show()"
   ]
  },
  {
   "cell_type": "code",
   "execution_count": 85,
   "metadata": {
    "id": "dJe9npGBsm1c"
   },
   "outputs": [],
   "source": [
    "def mean_absolute_percentage_error(y_true, y_pred): \n",
    "    return np.mean(np.abs((y_true - y_pred) / y_true)) * 100"
   ]
  },
  {
   "cell_type": "code",
   "execution_count": 86,
   "metadata": {
    "id": "zuqpOElVrnfp"
   },
   "outputs": [],
   "source": [
    "df,df1=convert_dtypes(df,df1) #df is train data set ,df1 is test data set\n",
    "df,df1=convert_to_cat(df,df1,['Borough','TaxClass_AtEvaluationTime'])"
   ]
  },
  {
   "cell_type": "code",
   "execution_count": 87,
   "metadata": {
    "colab": {
     "base_uri": "https://localhost:8080/",
     "height": 362
    },
    "id": "nzQgpWegiH8X",
    "outputId": "dd27755f-2732-4006-ac1c-e424b2733035"
   },
   "outputs": [
    {
     "name": "stderr",
     "output_type": "stream",
     "text": [
      "/usr/local/lib/python3.7/dist-packages/seaborn/distributions.py:2619: FutureWarning: `distplot` is a deprecated function and will be removed in a future version. Please adapt your code to use either `displot` (a figure-level function with similar flexibility) or `histplot` (an axes-level function for histograms).\n",
      "  warnings.warn(msg, FutureWarning)\n"
     ]
    },
    {
     "data": {
      "text/plain": [
       "<matplotlib.axes._subplots.AxesSubplot at 0x7f6ecb9401d0>"
      ]
     },
     "execution_count": 87,
     "metadata": {},
     "output_type": "execute_result"
    },
    {
     "data": {
      "image/png": "[encoded data removed]",
      "text/plain": [
       "<Figure size 432x288 with 1 Axes>"
      ]
     },
     "metadata": {
      "needs_background": "light"
     },
     "output_type": "display_data"
    }
   ],
   "source": [
    "#distribution of the Property Evalution value\n",
    "sns.distplot(df.PropertyEvaluationvalue)"
   ]
  },
  {
   "cell_type": "code",
   "execution_count": 88,
   "metadata": {
    "colab": {
     "base_uri": "https://localhost:8080/",
     "height": 674
    },
    "id": "YAIolO3siH-X",
    "outputId": "ba90e7eb-c2cb-4abf-f794-ecf0491fe9e5"
   },
   "outputs": [
    {
     "data": {
      "image/png": "[encoded data removed]",
      "text/plain": [
       "<Figure size 1440x1440 with 12 Axes>"
      ]
     },
     "metadata": {
      "needs_background": "light"
     },
     "output_type": "display_data"
    }
   ],
   "source": [
    "#univariate analysis on the numerical columns\n",
    "df.hist(figsize=(20,20))\n",
    "plt.show()"
   ]
  },
  {
   "cell_type": "code",
   "execution_count": 89,
   "metadata": {
    "colab": {
     "base_uri": "https://localhost:8080/"
    },
    "id": "dCbsgz_JiIB8",
    "outputId": "55c34fd7-dccf-4dd2-9145-b9e547a58fdd"
   },
   "outputs": [
    {
     "name": "stdout",
     "output_type": "stream",
     "text": [
      "['PropertyID', 'Borough', 'State', 'Surroundings', 'Address', 'BldgClassCategory', 'TaxClass_AtEvaluationTime', 'BldgClass_AtEvaluationTime']\n",
      "['ZipCode', 'Block', 'Lot', 'NoOfResidentialUnits', 'NoOfCommercialUnits', 'TotalNoOfUnits', 'LandAreaInSqFt', 'GrossAreaInSqFt', 'YearOfConstruction', 'DateOfEvaluation', 'PropertyEvaluationvalue']\n"
     ]
    }
   ],
   "source": [
    "#list of categorical and numerical columns\n",
    "cat_col_list,num_col_list=get_cat_num_cols(df)\n",
    "print(cat_col_list)\n",
    "print(num_col_list)"
   ]
  },
  {
   "cell_type": "code",
   "execution_count": 90,
   "metadata": {
    "id": "MSh-fJcciIEG"
   },
   "outputs": [],
   "source": [
    "#creating new columns \n",
    "current_year = datetime.datetime.now().year #get current year\n",
    "df['Current Year'] = datetime.datetime.now().year\n",
    "df['AgeOfProperty']=df['Current Year']-df['YearOfConstruction']\n",
    "df.drop(['Current Year'], axis=1, inplace=True)\n",
    "\n",
    "\n",
    "df['today'] = date.today().strftime(\"%Y-%m-%d\")\n",
    "df['today'] = pd.to_datetime(df.today)\n",
    "df['DaysSinceDateofEvaluation'] = (df.today - df['DateOfEvaluation']).astype('timedelta64[D]')\n",
    "df.drop(['today'], axis=1, inplace=True)\n",
    "\n",
    "df['MonthOfEvaluation'] = pd.DatetimeIndex(df['DateOfEvaluation']).month\n",
    "\n",
    "\n",
    "current_year = datetime.datetime.now().year #get current year\n",
    "df1['Current Year'] = datetime.datetime.now().year\n",
    "df1['AgeOfProperty']=df1['Current Year']-df1['YearOfConstruction']\n",
    "df1.drop(['Current Year'], axis=1, inplace=True)\n",
    "\n",
    "df1['today'] = date.today().strftime(\"%Y-%m-%d\")\n",
    "df1['today'] = pd.to_datetime(df1.today)\n",
    "df1['DaysSinceDateofEvaluation'] = (df1.today - df1['DateOfEvaluation']).astype('timedelta64[D]')\n",
    "df1.drop(['today'], axis=1, inplace=True)\n",
    "\n",
    "df1['MonthOfEvaluation'] = pd.DatetimeIndex(df1['DateOfEvaluation']).month\n"
   ]
  },
  {
   "cell_type": "code",
   "execution_count": 91,
   "metadata": {
    "colab": {
     "base_uri": "https://localhost:8080/"
    },
    "id": "wWeC894yiIHB",
    "outputId": "2a68011d-b86a-4c2b-c56b-0ef010868626"
   },
   "outputs": [
    {
     "data": {
      "text/plain": [
       "((16810, 22), (2936, 21))"
      ]
     },
     "execution_count": 91,
     "metadata": {},
     "output_type": "execute_result"
    }
   ],
   "source": [
    "df.shape,df1.shape"
   ]
  },
  {
   "cell_type": "code",
   "execution_count": 93,
   "metadata": {
    "colab": {
     "base_uri": "https://localhost:8080/"
    },
    "id": "8MYM2dq30Y_O",
    "outputId": "5cbb852e-3e24-4fd1-e35f-c300e1c736e1"
   },
   "outputs": [
    {
     "data": {
      "text/plain": [
       "PropertyID                          category\n",
       "Borough                             category\n",
       "State                               category\n",
       "Surroundings                        category\n",
       "Address                             category\n",
       "ZipCode                                int64\n",
       "Block                                  int64\n",
       "Lot                                    int64\n",
       "BldgClassCategory                   category\n",
       "NoOfResidentialUnits                   int64\n",
       "NoOfCommercialUnits                    int64\n",
       "TotalNoOfUnits                         int64\n",
       "LandAreaInSqFt                         int64\n",
       "GrossAreaInSqFt                        int64\n",
       "YearOfConstruction                     int64\n",
       "TaxClass_AtEvaluationTime           category\n",
       "BldgClass_AtEvaluationTime          category\n",
       "DateOfEvaluation              datetime64[ns]\n",
       "AgeOfProperty                          int64\n",
       "DaysSinceDateofEvaluation            float64\n",
       "MonthOfEvaluation                      int64\n",
       "dtype: object"
      ]
     },
     "execution_count": 93,
     "metadata": {},
     "output_type": "execute_result"
    }
   ],
   "source": [
    "df1.dtypes"
   ]
  },
  {
   "cell_type": "code",
   "execution_count": 95,
   "metadata": {
    "colab": {
     "base_uri": "https://localhost:8080/",
     "height": 1000
    },
    "id": "ioEQ-r571Mso",
    "outputId": "49b2c49c-ffc2-48e7-f138-d86da2d53d5b"
   },
   "outputs": [
    {
     "name": "stdout",
     "output_type": "stream",
     "text": [
      "column to added from first dataframe to second:\n"
     ]
    },
    {
     "data": {
      "text/plain": [
       "0         540000\n",
       "1         750000\n",
       "2         470000\n",
       "3         570000\n",
       "4         640000\n",
       "          ...   \n",
       "16805    8454562\n",
       "16806    6250000\n",
       "16807    7150000\n",
       "16808     550000\n",
       "16809    5000000\n",
       "Name: PropertyEvaluationvalue, Length: 16810, dtype: int64"
      ]
     },
     "metadata": {},
     "output_type": "display_data"
    },
    {
     "name": "stdout",
     "output_type": "stream",
     "text": [
      "Second dataframe after adding column from first dataframe:\n"
     ]
    },
    {
     "data": {
      "text/html": [
       "\n",
       "  <div id=\"df-b6b1fe16-c46e-4e6e-a807-7ba1b9d040ad\">\n",
       "    <div class=\"colab-df-container\">\n",
       "      <div>\n",
       "<style scoped>\n",
       "    .dataframe tbody tr th:only-of-type {\n",
       "        vertical-align: middle;\n",
       "    }\n",
       "\n",
       "    .dataframe tbody tr th {\n",
       "        vertical-align: top;\n",
       "    }\n",
       "\n",
       "    .dataframe thead th {\n",
       "        text-align: right;\n",
       "    }\n",
       "</style>\n",
       "<table border=\"1\" class=\"dataframe\">\n",
       "  <thead>\n",
       "    <tr style=\"text-align: right;\">\n",
       "      <th></th>\n",
       "      <th>PropertyID</th>\n",
       "      <th>Borough</th>\n",
       "      <th>State</th>\n",
       "      <th>Surroundings</th>\n",
       "      <th>Address</th>\n",
       "      <th>ZipCode</th>\n",
       "      <th>Block</th>\n",
       "      <th>Lot</th>\n",
       "      <th>BldgClassCategory</th>\n",
       "      <th>NoOfResidentialUnits</th>\n",
       "      <th>...</th>\n",
       "      <th>LandAreaInSqFt</th>\n",
       "      <th>GrossAreaInSqFt</th>\n",
       "      <th>YearOfConstruction</th>\n",
       "      <th>TaxClass_AtEvaluationTime</th>\n",
       "      <th>BldgClass_AtEvaluationTime</th>\n",
       "      <th>DateOfEvaluation</th>\n",
       "      <th>AgeOfProperty</th>\n",
       "      <th>DaysSinceDateofEvaluation</th>\n",
       "      <th>MonthOfEvaluation</th>\n",
       "      <th>PropertyEvaluationvalue</th>\n",
       "    </tr>\n",
       "  </thead>\n",
       "  <tbody>\n",
       "    <tr>\n",
       "      <th>0</th>\n",
       "      <td>PR51101</td>\n",
       "      <td>1</td>\n",
       "      <td>NY</td>\n",
       "      <td>BATHGATE</td>\n",
       "      <td>3860 3 AVENUE</td>\n",
       "      <td>10457</td>\n",
       "      <td>2929</td>\n",
       "      <td>117</td>\n",
       "      <td>02  TWO FAMILY HOMES</td>\n",
       "      <td>2</td>\n",
       "      <td>...</td>\n",
       "      <td>2498</td>\n",
       "      <td>2394</td>\n",
       "      <td>1995</td>\n",
       "      <td>1</td>\n",
       "      <td>B1</td>\n",
       "      <td>2013-06-24</td>\n",
       "      <td>27</td>\n",
       "      <td>3399.0</td>\n",
       "      <td>6</td>\n",
       "      <td>540000</td>\n",
       "    </tr>\n",
       "    <tr>\n",
       "      <th>1</th>\n",
       "      <td>PR51102</td>\n",
       "      <td>1</td>\n",
       "      <td>NY</td>\n",
       "      <td>BATHGATE</td>\n",
       "      <td>455 E. 179TH STREET</td>\n",
       "      <td>10457</td>\n",
       "      <td>3036</td>\n",
       "      <td>65</td>\n",
       "      <td>02 TWO FAMILY DWELLINGS</td>\n",
       "      <td>2</td>\n",
       "      <td>...</td>\n",
       "      <td>2033</td>\n",
       "      <td>2340</td>\n",
       "      <td>1994</td>\n",
       "      <td>1</td>\n",
       "      <td>B1</td>\n",
       "      <td>2014-08-28</td>\n",
       "      <td>28</td>\n",
       "      <td>2969.0</td>\n",
       "      <td>8</td>\n",
       "      <td>750000</td>\n",
       "    </tr>\n",
       "    <tr>\n",
       "      <th>2</th>\n",
       "      <td>PR51103</td>\n",
       "      <td>1</td>\n",
       "      <td>NY</td>\n",
       "      <td>BATHGATE</td>\n",
       "      <td>4415 3 AVENUE</td>\n",
       "      <td>10457</td>\n",
       "      <td>3048</td>\n",
       "      <td>51</td>\n",
       "      <td>14 RENTALS - 4-10 UNIT</td>\n",
       "      <td>4</td>\n",
       "      <td>...</td>\n",
       "      <td>2500</td>\n",
       "      <td>6000</td>\n",
       "      <td>1963</td>\n",
       "      <td>2</td>\n",
       "      <td>S4</td>\n",
       "      <td>2015-01-31</td>\n",
       "      <td>59</td>\n",
       "      <td>2813.0</td>\n",
       "      <td>1</td>\n",
       "      <td>470000</td>\n",
       "    </tr>\n",
       "    <tr>\n",
       "      <th>3</th>\n",
       "      <td>PR51104</td>\n",
       "      <td>1</td>\n",
       "      <td>NY</td>\n",
       "      <td>BATHGATE</td>\n",
       "      <td>407 EAST 174 STREET</td>\n",
       "      <td>10457</td>\n",
       "      <td>2899</td>\n",
       "      <td>34</td>\n",
       "      <td>30 WAREHOUSES</td>\n",
       "      <td>0</td>\n",
       "      <td>...</td>\n",
       "      <td>3439</td>\n",
       "      <td>3320</td>\n",
       "      <td>1951</td>\n",
       "      <td>4</td>\n",
       "      <td>E1</td>\n",
       "      <td>2015-03-12</td>\n",
       "      <td>71</td>\n",
       "      <td>2773.0</td>\n",
       "      <td>3</td>\n",
       "      <td>570000</td>\n",
       "    </tr>\n",
       "    <tr>\n",
       "      <th>4</th>\n",
       "      <td>PR51105</td>\n",
       "      <td>1</td>\n",
       "      <td>NY</td>\n",
       "      <td>EAST TREMONT</td>\n",
       "      <td>2175 CROTONA AVENUE</td>\n",
       "      <td>10457</td>\n",
       "      <td>3083</td>\n",
       "      <td>40</td>\n",
       "      <td>03 THREE FAMILY DWELLINGS</td>\n",
       "      <td>3</td>\n",
       "      <td>...</td>\n",
       "      <td>1348</td>\n",
       "      <td>2931</td>\n",
       "      <td>1997</td>\n",
       "      <td>1</td>\n",
       "      <td>C0</td>\n",
       "      <td>2014-06-07</td>\n",
       "      <td>25</td>\n",
       "      <td>3051.0</td>\n",
       "      <td>6</td>\n",
       "      <td>640000</td>\n",
       "    </tr>\n",
       "    <tr>\n",
       "      <th>...</th>\n",
       "      <td>...</td>\n",
       "      <td>...</td>\n",
       "      <td>...</td>\n",
       "      <td>...</td>\n",
       "      <td>...</td>\n",
       "      <td>...</td>\n",
       "      <td>...</td>\n",
       "      <td>...</td>\n",
       "      <td>...</td>\n",
       "      <td>...</td>\n",
       "      <td>...</td>\n",
       "      <td>...</td>\n",
       "      <td>...</td>\n",
       "      <td>...</td>\n",
       "      <td>...</td>\n",
       "      <td>...</td>\n",
       "      <td>...</td>\n",
       "      <td>...</td>\n",
       "      <td>...</td>\n",
       "      <td>...</td>\n",
       "      <td>...</td>\n",
       "    </tr>\n",
       "    <tr>\n",
       "      <th>2931</th>\n",
       "      <td>PR54032</td>\n",
       "      <td>4</td>\n",
       "      <td>NY</td>\n",
       "      <td>UPPER EAST SIDE (79-96)</td>\n",
       "      <td>200 EAST 89TH STREET, 16F</td>\n",
       "      <td>10128</td>\n",
       "      <td>1534</td>\n",
       "      <td>1207</td>\n",
       "      <td>13 CONDOS - ELEVATOR APARTMENTS</td>\n",
       "      <td>1</td>\n",
       "      <td>...</td>\n",
       "      <td>13000</td>\n",
       "      <td>638</td>\n",
       "      <td>1983</td>\n",
       "      <td>2</td>\n",
       "      <td>R4</td>\n",
       "      <td>2015-02-21</td>\n",
       "      <td>39</td>\n",
       "      <td>2792.0</td>\n",
       "      <td>2</td>\n",
       "      <td>440000</td>\n",
       "    </tr>\n",
       "    <tr>\n",
       "      <th>2932</th>\n",
       "      <td>PR54033</td>\n",
       "      <td>4</td>\n",
       "      <td>NY</td>\n",
       "      <td>UPPER EAST SIDE (79-96)</td>\n",
       "      <td>360 EAST 89TH STREET</td>\n",
       "      <td>10128</td>\n",
       "      <td>1551</td>\n",
       "      <td>1165</td>\n",
       "      <td>13 CONDOS - ELEVATOR APARTMENTS</td>\n",
       "      <td>1</td>\n",
       "      <td>...</td>\n",
       "      <td>7755</td>\n",
       "      <td>2049</td>\n",
       "      <td>2011</td>\n",
       "      <td>2</td>\n",
       "      <td>R4</td>\n",
       "      <td>2014-06-04</td>\n",
       "      <td>11</td>\n",
       "      <td>3054.0</td>\n",
       "      <td>6</td>\n",
       "      <td>524398</td>\n",
       "    </tr>\n",
       "    <tr>\n",
       "      <th>2933</th>\n",
       "      <td>PR54034</td>\n",
       "      <td>4</td>\n",
       "      <td>NY</td>\n",
       "      <td>CIVIC CENTER</td>\n",
       "      <td>30 PARK PLACE</td>\n",
       "      <td>10007</td>\n",
       "      <td>123</td>\n",
       "      <td>1176</td>\n",
       "      <td>13 CONDOS - ELEVATOR APARTMENTS</td>\n",
       "      <td>1</td>\n",
       "      <td>...</td>\n",
       "      <td>29715</td>\n",
       "      <td>1538</td>\n",
       "      <td>2004</td>\n",
       "      <td>2</td>\n",
       "      <td>R4</td>\n",
       "      <td>2014-08-06</td>\n",
       "      <td>18</td>\n",
       "      <td>2991.0</td>\n",
       "      <td>8</td>\n",
       "      <td>265000</td>\n",
       "    </tr>\n",
       "    <tr>\n",
       "      <th>2934</th>\n",
       "      <td>PR54035</td>\n",
       "      <td>4</td>\n",
       "      <td>NY</td>\n",
       "      <td>CIVIC CENTER</td>\n",
       "      <td>77 READE STREET</td>\n",
       "      <td>10007</td>\n",
       "      <td>149</td>\n",
       "      <td>1013</td>\n",
       "      <td>13 CONDOS - ELEVATOR APARTMENTS</td>\n",
       "      <td>1</td>\n",
       "      <td>...</td>\n",
       "      <td>11670</td>\n",
       "      <td>1497</td>\n",
       "      <td>2005</td>\n",
       "      <td>2</td>\n",
       "      <td>R4</td>\n",
       "      <td>2014-04-30</td>\n",
       "      <td>17</td>\n",
       "      <td>3089.0</td>\n",
       "      <td>4</td>\n",
       "      <td>615000</td>\n",
       "    </tr>\n",
       "    <tr>\n",
       "      <th>2935</th>\n",
       "      <td>PR54036</td>\n",
       "      <td>4</td>\n",
       "      <td>NY</td>\n",
       "      <td>HARLEM-UPPER</td>\n",
       "      <td>608 WEST 149 STREET</td>\n",
       "      <td>10031</td>\n",
       "      <td>2095</td>\n",
       "      <td>1001</td>\n",
       "      <td>42 CONDO CULTURAL/MEDICAL/EDUCATIONAL/ETC</td>\n",
       "      <td>0</td>\n",
       "      <td>...</td>\n",
       "      <td>9992</td>\n",
       "      <td>10411</td>\n",
       "      <td>2001</td>\n",
       "      <td>4</td>\n",
       "      <td>RA</td>\n",
       "      <td>2014-10-25</td>\n",
       "      <td>21</td>\n",
       "      <td>2911.0</td>\n",
       "      <td>10</td>\n",
       "      <td>585000</td>\n",
       "    </tr>\n",
       "  </tbody>\n",
       "</table>\n",
       "<p>2936 rows × 22 columns</p>\n",
       "</div>\n",
       "      <button class=\"colab-df-convert\" onclick=\"convertToInteractive('df-b6b1fe16-c46e-4e6e-a807-7ba1b9d040ad')\"\n",
       "              title=\"Convert this dataframe to an interactive table.\"\n",
       "              style=\"display:none;\">\n",
       "        \n",
       "  <svg xmlns=\"http://www.w3.org/2000/svg\" height=\"24px\"viewBox=\"0 0 24 24\"\n",
       "       width=\"24px\">\n",
       "    <path d=\"M0 0h24v24H0V0z\" fill=\"none\"/>\n",
       "    <path d=\"M18.56 5.44l.94 2.06.94-2.06 2.06-.94-2.06-.94-.94-2.06-.94 2.06-2.06.94zm-11 1L8.5 8.5l.94-2.06 2.06-.94-2.06-.94L8.5 2.5l-.94 2.06-2.06.94zm10 10l.94 2.06.94-2.06 2.06-.94-2.06-.94-.94-2.06-.94 2.06-2.06.94z\"/><path d=\"M17.41 7.96l-1.37-1.37c-.4-.4-.92-.59-1.43-.59-.52 0-1.04.2-1.43.59L10.3 9.45l-7.72 7.72c-.78.78-.78 2.05 0 2.83L4 21.41c.39.39.9.59 1.41.59.51 0 1.02-.2 1.41-.59l7.78-7.78 2.81-2.81c.8-.78.8-2.07 0-2.86zM5.41 20L4 18.59l7.72-7.72 1.47 1.35L5.41 20z\"/>\n",
       "  </svg>\n",
       "      </button>\n",
       "      \n",
       "  <style>\n",
       "    .colab-df-container {\n",
       "      display:flex;\n",
       "      flex-wrap:wrap;\n",
       "      gap: 12px;\n",
       "    }\n",
       "\n",
       "    .colab-df-convert {\n",
       "      background-color: #E8F0FE;\n",
       "      border: none;\n",
       "      border-radius: 50%;\n",
       "      cursor: pointer;\n",
       "      display: none;\n",
       "      fill: #1967D2;\n",
       "      height: 32px;\n",
       "      padding: 0 0 0 0;\n",
       "      width: 32px;\n",
       "    }\n",
       "\n",
       "    .colab-df-convert:hover {\n",
       "      background-color: #E2EBFA;\n",
       "      box-shadow: 0px 1px 2px rgba(60, 64, 67, 0.3), 0px 1px 3px 1px rgba(60, 64, 67, 0.15);\n",
       "      fill: #174EA6;\n",
       "    }\n",
       "\n",
       "    [theme=dark] .colab-df-convert {\n",
       "      background-color: #3B4455;\n",
       "      fill: #D2E3FC;\n",
       "    }\n",
       "\n",
       "    [theme=dark] .colab-df-convert:hover {\n",
       "      background-color: #434B5C;\n",
       "      box-shadow: 0px 1px 3px 1px rgba(0, 0, 0, 0.15);\n",
       "      filter: drop-shadow(0px 1px 2px rgba(0, 0, 0, 0.3));\n",
       "      fill: #FFFFFF;\n",
       "    }\n",
       "  </style>\n",
       "\n",
       "      <script>\n",
       "        const buttonEl =\n",
       "          document.querySelector('#df-b6b1fe16-c46e-4e6e-a807-7ba1b9d040ad button.colab-df-convert');\n",
       "        buttonEl.style.display =\n",
       "          google.colab.kernel.accessAllowed ? 'block' : 'none';\n",
       "\n",
       "        async function convertToInteractive(key) {\n",
       "          const element = document.querySelector('#df-b6b1fe16-c46e-4e6e-a807-7ba1b9d040ad');\n",
       "          const dataTable =\n",
       "            await google.colab.kernel.invokeFunction('convertToInteractive',\n",
       "                                                     [key], {});\n",
       "          if (!dataTable) return;\n",
       "\n",
       "          const docLinkHtml = 'Like what you see? Visit the ' +\n",
       "            '<a target=\"_blank\" href=https://colab.research.google.com/notebooks/data_table.ipynb>data table notebook</a>'\n",
       "            + ' to learn more about interactive tables.';\n",
       "          element.innerHTML = '';\n",
       "          dataTable['output_type'] = 'display_data';\n",
       "          await google.colab.output.renderOutput(dataTable, element);\n",
       "          const docLink = document.createElement('div');\n",
       "          docLink.innerHTML = docLinkHtml;\n",
       "          element.appendChild(docLink);\n",
       "        }\n",
       "      </script>\n",
       "    </div>\n",
       "  </div>\n",
       "  "
      ],
      "text/plain": [
       "     PropertyID Borough State             Surroundings  \\\n",
       "0       PR51101       1    NY                 BATHGATE   \n",
       "1       PR51102       1    NY                 BATHGATE   \n",
       "2       PR51103       1    NY                 BATHGATE   \n",
       "3       PR51104       1    NY                 BATHGATE   \n",
       "4       PR51105       1    NY             EAST TREMONT   \n",
       "...         ...     ...   ...                      ...   \n",
       "2931    PR54032       4    NY  UPPER EAST SIDE (79-96)   \n",
       "2932    PR54033       4    NY  UPPER EAST SIDE (79-96)   \n",
       "2933    PR54034       4    NY             CIVIC CENTER   \n",
       "2934    PR54035       4    NY             CIVIC CENTER   \n",
       "2935    PR54036       4    NY             HARLEM-UPPER   \n",
       "\n",
       "                        Address  ZipCode  Block   Lot  \\\n",
       "0                 3860 3 AVENUE    10457   2929   117   \n",
       "1           455 E. 179TH STREET    10457   3036    65   \n",
       "2                 4415 3 AVENUE    10457   3048    51   \n",
       "3           407 EAST 174 STREET    10457   2899    34   \n",
       "4           2175 CROTONA AVENUE    10457   3083    40   \n",
       "...                         ...      ...    ...   ...   \n",
       "2931  200 EAST 89TH STREET, 16F    10128   1534  1207   \n",
       "2932       360 EAST 89TH STREET    10128   1551  1165   \n",
       "2933              30 PARK PLACE    10007    123  1176   \n",
       "2934            77 READE STREET    10007    149  1013   \n",
       "2935        608 WEST 149 STREET    10031   2095  1001   \n",
       "\n",
       "                              BldgClassCategory  NoOfResidentialUnits  ...  \\\n",
       "0                          02  TWO FAMILY HOMES                     2  ...   \n",
       "1                       02 TWO FAMILY DWELLINGS                     2  ...   \n",
       "2                        14 RENTALS - 4-10 UNIT                     4  ...   \n",
       "3                                 30 WAREHOUSES                     0  ...   \n",
       "4                     03 THREE FAMILY DWELLINGS                     3  ...   \n",
       "...                                         ...                   ...  ...   \n",
       "2931            13 CONDOS - ELEVATOR APARTMENTS                     1  ...   \n",
       "2932            13 CONDOS - ELEVATOR APARTMENTS                     1  ...   \n",
       "2933            13 CONDOS - ELEVATOR APARTMENTS                     1  ...   \n",
       "2934            13 CONDOS - ELEVATOR APARTMENTS                     1  ...   \n",
       "2935  42 CONDO CULTURAL/MEDICAL/EDUCATIONAL/ETC                     0  ...   \n",
       "\n",
       "      LandAreaInSqFt  GrossAreaInSqFt  YearOfConstruction  \\\n",
       "0               2498             2394                1995   \n",
       "1               2033             2340                1994   \n",
       "2               2500             6000                1963   \n",
       "3               3439             3320                1951   \n",
       "4               1348             2931                1997   \n",
       "...              ...              ...                 ...   \n",
       "2931           13000              638                1983   \n",
       "2932            7755             2049                2011   \n",
       "2933           29715             1538                2004   \n",
       "2934           11670             1497                2005   \n",
       "2935            9992            10411                2001   \n",
       "\n",
       "      TaxClass_AtEvaluationTime  BldgClass_AtEvaluationTime DateOfEvaluation  \\\n",
       "0                             1                          B1       2013-06-24   \n",
       "1                             1                          B1       2014-08-28   \n",
       "2                             2                          S4       2015-01-31   \n",
       "3                             4                          E1       2015-03-12   \n",
       "4                             1                          C0       2014-06-07   \n",
       "...                         ...                         ...              ...   \n",
       "2931                          2                          R4       2015-02-21   \n",
       "2932                          2                          R4       2014-06-04   \n",
       "2933                          2                          R4       2014-08-06   \n",
       "2934                          2                          R4       2014-04-30   \n",
       "2935                          4                          RA       2014-10-25   \n",
       "\n",
       "     AgeOfProperty DaysSinceDateofEvaluation  MonthOfEvaluation  \\\n",
       "0               27                    3399.0                  6   \n",
       "1               28                    2969.0                  8   \n",
       "2               59                    2813.0                  1   \n",
       "3               71                    2773.0                  3   \n",
       "4               25                    3051.0                  6   \n",
       "...            ...                       ...                ...   \n",
       "2931            39                    2792.0                  2   \n",
       "2932            11                    3054.0                  6   \n",
       "2933            18                    2991.0                  8   \n",
       "2934            17                    3089.0                  4   \n",
       "2935            21                    2911.0                 10   \n",
       "\n",
       "      PropertyEvaluationvalue  \n",
       "0                      540000  \n",
       "1                      750000  \n",
       "2                      470000  \n",
       "3                      570000  \n",
       "4                      640000  \n",
       "...                       ...  \n",
       "2931                   440000  \n",
       "2932                   524398  \n",
       "2933                   265000  \n",
       "2934                   615000  \n",
       "2935                   585000  \n",
       "\n",
       "[2936 rows x 22 columns]"
      ]
     },
     "metadata": {},
     "output_type": "display_data"
    }
   ],
   "source": [
    "extracted_col = df[\"PropertyEvaluationvalue\"]\n",
    "print(\"column to added from first dataframe to second:\")\n",
    "display(extracted_col)\n",
    "  \n",
    "df1 = df1.join(extracted_col)\n",
    "print(\"Second dataframe after adding column from first dataframe:\")\n",
    "display(df1)"
   ]
  },
  {
   "cell_type": "code",
   "execution_count": 96,
   "metadata": {
    "colab": {
     "base_uri": "https://localhost:8080/",
     "height": 307
    },
    "id": "VzSAEw-yiIJs",
    "outputId": "473de862-2cf1-443f-b66f-7254f257dd3d"
   },
   "outputs": [
    {
     "data": {
      "text/plain": [
       "<matplotlib.axes._subplots.AxesSubplot at 0x7f6eda3bedd0>"
      ]
     },
     "execution_count": 96,
     "metadata": {},
     "output_type": "execute_result"
    },
    {
     "data": {
      "image/png": "[encoded data removed]",
      "text/plain": [
       "<Figure size 432x288 with 1 Axes>"
      ]
     },
     "metadata": {
      "needs_background": "light"
     },
     "output_type": "display_data"
    }
   ],
   "source": [
    "sns.boxplot(x=df['MonthOfEvaluation'],y=df1['PropertyEvaluationvalue'])"
   ]
  },
  {
   "cell_type": "code",
   "execution_count": 97,
   "metadata": {
    "colab": {
     "base_uri": "https://localhost:8080/",
     "height": 1000
    },
    "id": "HZu-uVwtiIMz",
    "outputId": "46d3183e-4d5b-484e-f607-61a9b10d6fe2"
   },
   "outputs": [
    {
     "data": {
      "text/html": [
       "\n",
       "  <div id=\"df-31bab4e1-37d2-46d4-ba89-98b840d61ac3\">\n",
       "    <div class=\"colab-df-container\">\n",
       "      <div>\n",
       "<style scoped>\n",
       "    .dataframe tbody tr th:only-of-type {\n",
       "        vertical-align: middle;\n",
       "    }\n",
       "\n",
       "    .dataframe tbody tr th {\n",
       "        vertical-align: top;\n",
       "    }\n",
       "\n",
       "    .dataframe thead th {\n",
       "        text-align: right;\n",
       "    }\n",
       "</style>\n",
       "<table border=\"1\" class=\"dataframe\">\n",
       "  <thead>\n",
       "    <tr style=\"text-align: right;\">\n",
       "      <th></th>\n",
       "      <th>PropertyEvaluationvalue</th>\n",
       "    </tr>\n",
       "    <tr>\n",
       "      <th>BldgClassCategory</th>\n",
       "      <th></th>\n",
       "    </tr>\n",
       "  </thead>\n",
       "  <tbody>\n",
       "    <tr>\n",
       "      <th>25  LUXURY HOTELS</th>\n",
       "      <td>1.281442e+05</td>\n",
       "    </tr>\n",
       "    <tr>\n",
       "      <th>45 CONDO HOTELS</th>\n",
       "      <td>1.383320e+05</td>\n",
       "    </tr>\n",
       "    <tr>\n",
       "      <th>09  COOPS - WALKUP APARTMENTS</th>\n",
       "      <td>1.921288e+05</td>\n",
       "    </tr>\n",
       "    <tr>\n",
       "      <th>42 CONDO CULTURAL/MEDICAL/EDUCATIONAL/ETC</th>\n",
       "      <td>2.036500e+05</td>\n",
       "    </tr>\n",
       "    <tr>\n",
       "      <th>38 ASYLUMS AND HOMES</th>\n",
       "      <td>2.099760e+05</td>\n",
       "    </tr>\n",
       "    <tr>\n",
       "      <th>10  COOPS - ELEVATOR APARTMENTS</th>\n",
       "      <td>2.795187e+05</td>\n",
       "    </tr>\n",
       "    <tr>\n",
       "      <th>01  ONE FAMILY HOMES</th>\n",
       "      <td>4.847993e+05</td>\n",
       "    </tr>\n",
       "    <tr>\n",
       "      <th>38  ASYLUMS AND HOMES</th>\n",
       "      <td>4.999000e+05</td>\n",
       "    </tr>\n",
       "    <tr>\n",
       "      <th>41 TAX CLASS 4 - OTHER</th>\n",
       "      <td>5.033333e+05</td>\n",
       "    </tr>\n",
       "    <tr>\n",
       "      <th>04 TAX CLASS 1 CONDOS</th>\n",
       "      <td>5.129188e+05</td>\n",
       "    </tr>\n",
       "    <tr>\n",
       "      <th>02  TWO FAMILY HOMES</th>\n",
       "      <td>5.434214e+05</td>\n",
       "    </tr>\n",
       "    <tr>\n",
       "      <th>12 CONDOS - WALKUP APARTMENTS</th>\n",
       "      <td>5.486052e+05</td>\n",
       "    </tr>\n",
       "    <tr>\n",
       "      <th>05  TAX CLASS 1 VACANT LAND</th>\n",
       "      <td>5.992378e+05</td>\n",
       "    </tr>\n",
       "    <tr>\n",
       "      <th>03  THREE FAMILY HOMES</th>\n",
       "      <td>6.220397e+05</td>\n",
       "    </tr>\n",
       "    <tr>\n",
       "      <th>01 ONE FAMILY DWELLINGS</th>\n",
       "      <td>6.422008e+05</td>\n",
       "    </tr>\n",
       "    <tr>\n",
       "      <th>44 CONDO PARKING</th>\n",
       "      <td>7.480606e+05</td>\n",
       "    </tr>\n",
       "    <tr>\n",
       "      <th>02 TWO FAMILY DWELLINGS</th>\n",
       "      <td>7.602622e+05</td>\n",
       "    </tr>\n",
       "    <tr>\n",
       "      <th>16 CONDOS - 2-10 UNIT WITH COMMERCIAL UNIT</th>\n",
       "      <td>8.551070e+05</td>\n",
       "    </tr>\n",
       "    <tr>\n",
       "      <th>03 THREE FAMILY DWELLINGS</th>\n",
       "      <td>9.857853e+05</td>\n",
       "    </tr>\n",
       "    <tr>\n",
       "      <th>35  INDOOR PUBLIC AND CULTURAL FACILITIES</th>\n",
       "      <td>1.121000e+06</td>\n",
       "    </tr>\n",
       "    <tr>\n",
       "      <th>14  RENTALS - 4-10 UNIT</th>\n",
       "      <td>1.266440e+06</td>\n",
       "    </tr>\n",
       "    <tr>\n",
       "      <th>37  RELIGIOUS FACILITIES</th>\n",
       "      <td>1.302778e+06</td>\n",
       "    </tr>\n",
       "    <tr>\n",
       "      <th>15 CONDOS - 2-10 UNIT RESIDENTIAL</th>\n",
       "      <td>1.346495e+06</td>\n",
       "    </tr>\n",
       "    <tr>\n",
       "      <th>07  RENTALS - WALKUP APARTMENTS</th>\n",
       "      <td>1.423042e+06</td>\n",
       "    </tr>\n",
       "    <tr>\n",
       "      <th>13 CONDOS - ELEVATOR APARTMENTS</th>\n",
       "      <td>1.424193e+06</td>\n",
       "    </tr>\n",
       "    <tr>\n",
       "      <th>29  COMMERCIAL GARAGES</th>\n",
       "      <td>1.454140e+06</td>\n",
       "    </tr>\n",
       "    <tr>\n",
       "      <th>26  OTHER HOTELS</th>\n",
       "      <td>1.504494e+06</td>\n",
       "    </tr>\n",
       "    <tr>\n",
       "      <th>14 RENTALS - 4-10 UNIT</th>\n",
       "      <td>1.830884e+06</td>\n",
       "    </tr>\n",
       "    <tr>\n",
       "      <th>27  FACTORIES</th>\n",
       "      <td>1.849018e+06</td>\n",
       "    </tr>\n",
       "    <tr>\n",
       "      <th>29 COMMERCIAL GARAGES</th>\n",
       "      <td>1.880308e+06</td>\n",
       "    </tr>\n",
       "    <tr>\n",
       "      <th>41  TAX CLASS 4 - OTHER</th>\n",
       "      <td>1.897475e+06</td>\n",
       "    </tr>\n",
       "    <tr>\n",
       "      <th>22  STORE BUILDINGS</th>\n",
       "      <td>2.078951e+06</td>\n",
       "    </tr>\n",
       "    <tr>\n",
       "      <th>30  WAREHOUSES</th>\n",
       "      <td>2.270782e+06</td>\n",
       "    </tr>\n",
       "    <tr>\n",
       "      <th>07 RENTALS - WALKUP APARTMENTS</th>\n",
       "      <td>2.272617e+06</td>\n",
       "    </tr>\n",
       "    <tr>\n",
       "      <th>21  OFFICE BUILDINGS</th>\n",
       "      <td>2.308065e+06</td>\n",
       "    </tr>\n",
       "    <tr>\n",
       "      <th>31  COMMERCIAL VACANT LAND</th>\n",
       "      <td>2.361000e+06</td>\n",
       "    </tr>\n",
       "    <tr>\n",
       "      <th>21 OFFICE BUILDINGS</th>\n",
       "      <td>2.441604e+06</td>\n",
       "    </tr>\n",
       "    <tr>\n",
       "      <th>30 WAREHOUSES</th>\n",
       "      <td>2.513352e+06</td>\n",
       "    </tr>\n",
       "    <tr>\n",
       "      <th>33 EDUCATIONAL FACILITIES</th>\n",
       "      <td>2.689567e+06</td>\n",
       "    </tr>\n",
       "    <tr>\n",
       "      <th>27 FACTORIES</th>\n",
       "      <td>2.787534e+06</td>\n",
       "    </tr>\n",
       "    <tr>\n",
       "      <th>46 CONDO STORE BUILDINGS</th>\n",
       "      <td>2.875101e+06</td>\n",
       "    </tr>\n",
       "    <tr>\n",
       "      <th>11A CONDO-RENTALS</th>\n",
       "      <td>3.030000e+06</td>\n",
       "    </tr>\n",
       "    <tr>\n",
       "      <th>22 STORE BUILDINGS</th>\n",
       "      <td>3.039536e+06</td>\n",
       "    </tr>\n",
       "    <tr>\n",
       "      <th>32 HOSPITAL AND HEALTH FACILITIES</th>\n",
       "      <td>3.151799e+06</td>\n",
       "    </tr>\n",
       "    <tr>\n",
       "      <th>37 RELIGIOUS FACILITIES</th>\n",
       "      <td>3.243667e+06</td>\n",
       "    </tr>\n",
       "    <tr>\n",
       "      <th>33  EDUCATIONAL FACILITIES</th>\n",
       "      <td>3.313714e+06</td>\n",
       "    </tr>\n",
       "    <tr>\n",
       "      <th>32  HOSPITAL AND HEALTH FACILITIES</th>\n",
       "      <td>4.266667e+06</td>\n",
       "    </tr>\n",
       "    <tr>\n",
       "      <th>08 RENTALS - ELEVATOR APARTMENTS</th>\n",
       "      <td>4.349463e+06</td>\n",
       "    </tr>\n",
       "    <tr>\n",
       "      <th>35 INDOOR PUBLIC AND CULTURAL FACILITIES</th>\n",
       "      <td>4.361250e+06</td>\n",
       "    </tr>\n",
       "    <tr>\n",
       "      <th>08  RENTALS - ELEVATOR APARTMENTS</th>\n",
       "      <td>4.908070e+06</td>\n",
       "    </tr>\n",
       "    <tr>\n",
       "      <th>36  OUTDOOR RECREATIONAL FACILITIES</th>\n",
       "      <td>6.050000e+06</td>\n",
       "    </tr>\n",
       "    <tr>\n",
       "      <th>26 OTHER HOTELS</th>\n",
       "      <td>6.925000e+06</td>\n",
       "    </tr>\n",
       "  </tbody>\n",
       "</table>\n",
       "</div>\n",
       "      <button class=\"colab-df-convert\" onclick=\"convertToInteractive('df-31bab4e1-37d2-46d4-ba89-98b840d61ac3')\"\n",
       "              title=\"Convert this dataframe to an interactive table.\"\n",
       "              style=\"display:none;\">\n",
       "        \n",
       "  <svg xmlns=\"http://www.w3.org/2000/svg\" height=\"24px\"viewBox=\"0 0 24 24\"\n",
       "       width=\"24px\">\n",
       "    <path d=\"M0 0h24v24H0V0z\" fill=\"none\"/>\n",
       "    <path d=\"M18.56 5.44l.94 2.06.94-2.06 2.06-.94-2.06-.94-.94-2.06-.94 2.06-2.06.94zm-11 1L8.5 8.5l.94-2.06 2.06-.94-2.06-.94L8.5 2.5l-.94 2.06-2.06.94zm10 10l.94 2.06.94-2.06 2.06-.94-2.06-.94-.94-2.06-.94 2.06-2.06.94z\"/><path d=\"M17.41 7.96l-1.37-1.37c-.4-.4-.92-.59-1.43-.59-.52 0-1.04.2-1.43.59L10.3 9.45l-7.72 7.72c-.78.78-.78 2.05 0 2.83L4 21.41c.39.39.9.59 1.41.59.51 0 1.02-.2 1.41-.59l7.78-7.78 2.81-2.81c.8-.78.8-2.07 0-2.86zM5.41 20L4 18.59l7.72-7.72 1.47 1.35L5.41 20z\"/>\n",
       "  </svg>\n",
       "      </button>\n",
       "      \n",
       "  <style>\n",
       "    .colab-df-container {\n",
       "      display:flex;\n",
       "      flex-wrap:wrap;\n",
       "      gap: 12px;\n",
       "    }\n",
       "\n",
       "    .colab-df-convert {\n",
       "      background-color: #E8F0FE;\n",
       "      border: none;\n",
       "      border-radius: 50%;\n",
       "      cursor: pointer;\n",
       "      display: none;\n",
       "      fill: #1967D2;\n",
       "      height: 32px;\n",
       "      padding: 0 0 0 0;\n",
       "      width: 32px;\n",
       "    }\n",
       "\n",
       "    .colab-df-convert:hover {\n",
       "      background-color: #E2EBFA;\n",
       "      box-shadow: 0px 1px 2px rgba(60, 64, 67, 0.3), 0px 1px 3px 1px rgba(60, 64, 67, 0.15);\n",
       "      fill: #174EA6;\n",
       "    }\n",
       "\n",
       "    [theme=dark] .colab-df-convert {\n",
       "      background-color: #3B4455;\n",
       "      fill: #D2E3FC;\n",
       "    }\n",
       "\n",
       "    [theme=dark] .colab-df-convert:hover {\n",
       "      background-color: #434B5C;\n",
       "      box-shadow: 0px 1px 3px 1px rgba(0, 0, 0, 0.15);\n",
       "      filter: drop-shadow(0px 1px 2px rgba(0, 0, 0, 0.3));\n",
       "      fill: #FFFFFF;\n",
       "    }\n",
       "  </style>\n",
       "\n",
       "      <script>\n",
       "        const buttonEl =\n",
       "          document.querySelector('#df-31bab4e1-37d2-46d4-ba89-98b840d61ac3 button.colab-df-convert');\n",
       "        buttonEl.style.display =\n",
       "          google.colab.kernel.accessAllowed ? 'block' : 'none';\n",
       "\n",
       "        async function convertToInteractive(key) {\n",
       "          const element = document.querySelector('#df-31bab4e1-37d2-46d4-ba89-98b840d61ac3');\n",
       "          const dataTable =\n",
       "            await google.colab.kernel.invokeFunction('convertToInteractive',\n",
       "                                                     [key], {});\n",
       "          if (!dataTable) return;\n",
       "\n",
       "          const docLinkHtml = 'Like what you see? Visit the ' +\n",
       "            '<a target=\"_blank\" href=https://colab.research.google.com/notebooks/data_table.ipynb>data table notebook</a>'\n",
       "            + ' to learn more about interactive tables.';\n",
       "          element.innerHTML = '';\n",
       "          dataTable['output_type'] = 'display_data';\n",
       "          await google.colab.output.renderOutput(dataTable, element);\n",
       "          const docLink = document.createElement('div');\n",
       "          docLink.innerHTML = docLinkHtml;\n",
       "          element.appendChild(docLink);\n",
       "        }\n",
       "      </script>\n",
       "    </div>\n",
       "  </div>\n",
       "  "
      ],
      "text/plain": [
       "                                            PropertyEvaluationvalue\n",
       "BldgClassCategory                                                  \n",
       "25  LUXURY HOTELS                                      1.281442e+05\n",
       "45 CONDO HOTELS                                        1.383320e+05\n",
       "09  COOPS - WALKUP APARTMENTS                          1.921288e+05\n",
       "42 CONDO CULTURAL/MEDICAL/EDUCATIONAL/ETC              2.036500e+05\n",
       "38 ASYLUMS AND HOMES                                   2.099760e+05\n",
       "10  COOPS - ELEVATOR APARTMENTS                        2.795187e+05\n",
       "01  ONE FAMILY HOMES                                   4.847993e+05\n",
       "38  ASYLUMS AND HOMES                                  4.999000e+05\n",
       "41 TAX CLASS 4 - OTHER                                 5.033333e+05\n",
       "04 TAX CLASS 1 CONDOS                                  5.129188e+05\n",
       "02  TWO FAMILY HOMES                                   5.434214e+05\n",
       "12 CONDOS - WALKUP APARTMENTS                          5.486052e+05\n",
       "05  TAX CLASS 1 VACANT LAND                            5.992378e+05\n",
       "03  THREE FAMILY HOMES                                 6.220397e+05\n",
       "01 ONE FAMILY DWELLINGS                                6.422008e+05\n",
       "44 CONDO PARKING                                       7.480606e+05\n",
       "02 TWO FAMILY DWELLINGS                                7.602622e+05\n",
       "16 CONDOS - 2-10 UNIT WITH COMMERCIAL UNIT             8.551070e+05\n",
       "03 THREE FAMILY DWELLINGS                              9.857853e+05\n",
       "35  INDOOR PUBLIC AND CULTURAL FACILITIES              1.121000e+06\n",
       "14  RENTALS - 4-10 UNIT                                1.266440e+06\n",
       "37  RELIGIOUS FACILITIES                               1.302778e+06\n",
       "15 CONDOS - 2-10 UNIT RESIDENTIAL                      1.346495e+06\n",
       "07  RENTALS - WALKUP APARTMENTS                        1.423042e+06\n",
       "13 CONDOS - ELEVATOR APARTMENTS                        1.424193e+06\n",
       "29  COMMERCIAL GARAGES                                 1.454140e+06\n",
       "26  OTHER HOTELS                                       1.504494e+06\n",
       "14 RENTALS - 4-10 UNIT                                 1.830884e+06\n",
       "27  FACTORIES                                          1.849018e+06\n",
       "29 COMMERCIAL GARAGES                                  1.880308e+06\n",
       "41  TAX CLASS 4 - OTHER                                1.897475e+06\n",
       "22  STORE BUILDINGS                                    2.078951e+06\n",
       "30  WAREHOUSES                                         2.270782e+06\n",
       "07 RENTALS - WALKUP APARTMENTS                         2.272617e+06\n",
       "21  OFFICE BUILDINGS                                   2.308065e+06\n",
       "31  COMMERCIAL VACANT LAND                             2.361000e+06\n",
       "21 OFFICE BUILDINGS                                    2.441604e+06\n",
       "30 WAREHOUSES                                          2.513352e+06\n",
       "33 EDUCATIONAL FACILITIES                              2.689567e+06\n",
       "27 FACTORIES                                           2.787534e+06\n",
       "46 CONDO STORE BUILDINGS                               2.875101e+06\n",
       "11A CONDO-RENTALS                                      3.030000e+06\n",
       "22 STORE BUILDINGS                                     3.039536e+06\n",
       "32 HOSPITAL AND HEALTH FACILITIES                      3.151799e+06\n",
       "37 RELIGIOUS FACILITIES                                3.243667e+06\n",
       "33  EDUCATIONAL FACILITIES                             3.313714e+06\n",
       "32  HOSPITAL AND HEALTH FACILITIES                     4.266667e+06\n",
       "08 RENTALS - ELEVATOR APARTMENTS                       4.349463e+06\n",
       "35 INDOOR PUBLIC AND CULTURAL FACILITIES               4.361250e+06\n",
       "08  RENTALS - ELEVATOR APARTMENTS                      4.908070e+06\n",
       "36  OUTDOOR RECREATIONAL FACILITIES                    6.050000e+06\n",
       "26 OTHER HOTELS                                        6.925000e+06"
      ]
     },
     "execution_count": 97,
     "metadata": {},
     "output_type": "execute_result"
    }
   ],
   "source": [
    "#Viewing the Mean PropertyEvaluationvalue grouped by BldgClassCategory in ascending order\n",
    "pd.DataFrame(df.groupby(['BldgClassCategory'])['PropertyEvaluationvalue'].mean()).sort_values('PropertyEvaluationvalue',ascending=True)"
   ]
  },
  {
   "cell_type": "code",
   "execution_count": 101,
   "metadata": {
    "id": "Ex00-_zjiIPC"
   },
   "outputs": [],
   "source": [
    "order_index_median=list(pd.DataFrame(df.groupby(['BldgClassCategory'])['PropertyEvaluationvalue'].mean()\n",
    ").sort_values('PropertyEvaluationvalue',ascending=True).index)\n"
   ]
  },
  {
   "cell_type": "code",
   "execution_count": 102,
   "metadata": {
    "colab": {
     "base_uri": "https://localhost:8080/",
     "height": 537
    },
    "id": "ab43i-z-iISI",
    "outputId": "f57b4935-b545-4338-ae10-d0fbb06a265d"
   },
   "outputs": [
    {
     "data": {
      "image/png": "[encoded data removed]",
      "text/plain": [
       "<Figure size 2160x2160 with 1 Axes>"
      ]
     },
     "metadata": {
      "needs_background": "light"
     },
     "output_type": "display_data"
    }
   ],
   "source": [
    "fig, ax = plt.subplots(figsize = (30,30))\n",
    "#sns.regplot(x =df[xcol],y = df['PropertyEvaluationvalue'],fit_reg= True)\n",
    "#ns.boxplot(x=df_copy['BldgClassCategory'],y=df_copy['PropertyEvaluationvalue'],order=order_index_median)\n",
    "sns.boxplot(y=df['BldgClassCategory'],x=df['PropertyEvaluationvalue'],order=order_index_median)\n",
    "plt.title(\"Box plot of BldgClassCategory Vs PropertyEvaluationvalue\",fontsize = 20)\n",
    "xlabels=df['BldgClassCategory'].unique()\n",
    "plt.xticks(x=df['BldgClassCategory'],rotation='vertical',fontsize=20)\n",
    "plt.yticks(fontsize=20)\n",
    "plt.xlabel('BldgClassCategory',fontsize = 20)\n",
    "plt.ylabel('PropertyEvaluationvalue',fontsize = 20)\n",
    "plt.grid()\n",
    "plt.show()\n",
    "    \n",
    "#sns.boxplot(x=df_copy['BldgClassCategory'],y=df_copy['PropertyEvaluationvalue'])"
   ]
  },
  {
   "cell_type": "code",
   "execution_count": 103,
   "metadata": {
    "id": "aEAjzQifiIZh"
   },
   "outputs": [],
   "source": [
    "#Now we are grouping these based on the median values and creating separate classes by grouing them\n",
    "levels=[]\n",
    "levels.append(order_index_median[0:6])\n",
    "levels.append(order_index_median[6:17])\n",
    "levels.append(order_index_median[17:26])\n",
    "levels.append(order_index_median[26:37])\n",
    "levels.append(order_index_median[37:45])\n",
    "levels.append(order_index_median[45:50])\n",
    "levels.append(order_index_median[50:52])"
   ]
  },
  {
   "cell_type": "code",
   "execution_count": null,
   "metadata": {
    "id": "poUveHrs9nrR"
   },
   "outputs": [],
   "source": [
    "#Created the below classes"
   ]
  },
  {
   "cell_type": "code",
   "execution_count": 104,
   "metadata": {
    "colab": {
     "base_uri": "https://localhost:8080/",
     "height": 227
    },
    "id": "X5rvX6eNiIc4",
    "outputId": "f7259b3e-ca0e-410f-9082-959388d26d3c"
   },
   "outputs": [
    {
     "data": {
      "application/vnd.google.colaboratory.intrinsic+json": {
       "type": "string"
      },
      "text/plain": [
       "\"Class1\\n['25  LUXURY HOTELS',\\n '45 CONDO HOTELS',\\n '10  COOPS - ELEVATOR APARTMENTS',\\n '09  COOPS - WALKUP APARTMENTS',\\n '42 CONDO CULTURAL/MEDICAL/EDUCATIONAL/ETC',\\n '38 ASYLUMS AND HOMES']\\n\\nClass2\\n['04 TAX CLASS 1 CONDOS',\\n '01  ONE FAMILY HOMES',\\n '41 TAX CLASS 4 - OTHER',\\n '12 CONDOS - WALKUP APARTMENTS',\\n '38  ASYLUMS AND HOMES',\\n '02  TWO FAMILY HOMES',\\n '44 CONDO PARKING',\\n '05  TAX CLASS 1 VACANT LAND',\\n '01 ONE FAMILY DWELLINGS',\\n '03  THREE FAMILY HOMES',\\n '02 TWO FAMILY DWELLINGS']\\n \\n Class3\\n ['16 CONDOS - 2-10 UNIT WITH COMMERCIAL UNIT',\\n '15 CONDOS - 2-10 UNIT RESIDENTIAL',\\n '03 THREE FAMILY DWELLINGS',\\n '13 CONDOS - ELEVATOR APARTMENTS',\\n '29  COMMERCIAL GARAGES',\\n '07  RENTALS - WALKUP APARTMENTS',\\n '37  RELIGIOUS FACILITIES',\\n '35  INDOOR PUBLIC AND CULTURAL FACILITIES',\\n '14  RENTALS - 4-10 UNIT']\\n \\n Class4\\n ['22  STORE BUILDINGS',\\n '33 EDUCATIONAL FACILITIES',\\n '27  FACTORIES',\\n '21 OFFICE BUILDINGS',\\n '07 RENTALS - WALKUP APARTMENTS',\\n '21  OFFICE BUILDINGS',\\n '29 COMMERCIAL GARAGES',\\n '26  OTHER HOTELS',\\n '41  TAX CLASS 4 - OTHER',\\n '14 RENTALS - 4-10 UNIT',\\n '30  WAREHOUSES']\\n \\n Class5\\n ['46 CONDO STORE BUILDINGS',\\n '30 WAREHOUSES',\\n '22 STORE BUILDINGS',\\n '31  COMMERCIAL VACANT LAND',\\n '33  EDUCATIONAL FACILITIES',\\n '27 FACTORIES',\\n '37 RELIGIOUS FACILITIES',\\n '11A CONDO-RENTALS']\\n \\n Class6\\n ['35 INDOOR PUBLIC AND CULTURAL FACILITIES',\\n '32 HOSPITAL AND HEALTH FACILITIES',\\n '08 RENTALS - ELEVATOR APARTMENTS',\\n '32  HOSPITAL AND HEALTH FACILITIES',\\n '08  RENTALS - ELEVATOR APARTMENTS']\\n \\n Class7\\n ['36  OUTDOOR RECREATIONAL FACILITIES', '26 OTHER HOTELS']\""
      ]
     },
     "execution_count": 104,
     "metadata": {},
     "output_type": "execute_result"
    }
   ],
   "source": [
    "\n",
    "'''Class1\n",
    "['25  LUXURY HOTELS',\n",
    " '45 CONDO HOTELS',\n",
    " '10  COOPS - ELEVATOR APARTMENTS',\n",
    " '09  COOPS - WALKUP APARTMENTS',\n",
    " '42 CONDO CULTURAL/MEDICAL/EDUCATIONAL/ETC',\n",
    " '38 ASYLUMS AND HOMES']\n",
    "\n",
    "Class2\n",
    "['04 TAX CLASS 1 CONDOS',\n",
    " '01  ONE FAMILY HOMES',\n",
    " '41 TAX CLASS 4 - OTHER',\n",
    " '12 CONDOS - WALKUP APARTMENTS',\n",
    " '38  ASYLUMS AND HOMES',\n",
    " '02  TWO FAMILY HOMES',\n",
    " '44 CONDO PARKING',\n",
    " '05  TAX CLASS 1 VACANT LAND',\n",
    " '01 ONE FAMILY DWELLINGS',\n",
    " '03  THREE FAMILY HOMES',\n",
    " '02 TWO FAMILY DWELLINGS']\n",
    " \n",
    " Class3\n",
    " ['16 CONDOS - 2-10 UNIT WITH COMMERCIAL UNIT',\n",
    " '15 CONDOS - 2-10 UNIT RESIDENTIAL',\n",
    " '03 THREE FAMILY DWELLINGS',\n",
    " '13 CONDOS - ELEVATOR APARTMENTS',\n",
    " '29  COMMERCIAL GARAGES',\n",
    " '07  RENTALS - WALKUP APARTMENTS',\n",
    " '37  RELIGIOUS FACILITIES',\n",
    " '35  INDOOR PUBLIC AND CULTURAL FACILITIES',\n",
    " '14  RENTALS - 4-10 UNIT']\n",
    " \n",
    " Class4\n",
    " ['22  STORE BUILDINGS',\n",
    " '33 EDUCATIONAL FACILITIES',\n",
    " '27  FACTORIES',\n",
    " '21 OFFICE BUILDINGS',\n",
    " '07 RENTALS - WALKUP APARTMENTS',\n",
    " '21  OFFICE BUILDINGS',\n",
    " '29 COMMERCIAL GARAGES',\n",
    " '26  OTHER HOTELS',\n",
    " '41  TAX CLASS 4 - OTHER',\n",
    " '14 RENTALS - 4-10 UNIT',\n",
    " '30  WAREHOUSES']\n",
    " \n",
    " Class5\n",
    " ['46 CONDO STORE BUILDINGS',\n",
    " '30 WAREHOUSES',\n",
    " '22 STORE BUILDINGS',\n",
    " '31  COMMERCIAL VACANT LAND',\n",
    " '33  EDUCATIONAL FACILITIES',\n",
    " '27 FACTORIES',\n",
    " '37 RELIGIOUS FACILITIES',\n",
    " '11A CONDO-RENTALS']\n",
    " \n",
    " Class6\n",
    " ['35 INDOOR PUBLIC AND CULTURAL FACILITIES',\n",
    " '32 HOSPITAL AND HEALTH FACILITIES',\n",
    " '08 RENTALS - ELEVATOR APARTMENTS',\n",
    " '32  HOSPITAL AND HEALTH FACILITIES',\n",
    " '08  RENTALS - ELEVATOR APARTMENTS']\n",
    " \n",
    " Class7\n",
    " ['36  OUTDOOR RECREATIONAL FACILITIES', '26 OTHER HOTELS']'''"
   ]
  },
  {
   "cell_type": "code",
   "execution_count": 105,
   "metadata": {
    "id": "wjnp0eYuiIiW"
   },
   "outputs": [],
   "source": [
    "for i in list(range(len(levels))):\n",
    "    x= dict.fromkeys(levels[i], 'Class'+str(i+1))\n",
    "    df=df.replace(x)\n",
    "    df1=df1.replace(x)\n",
    "df,df1t=convert_to_cat(df,df1,['BldgClassCategory'])"
   ]
  },
  {
   "cell_type": "code",
   "execution_count": 106,
   "metadata": {
    "colab": {
     "base_uri": "https://localhost:8080/"
    },
    "id": "l_ar7iYAiIka",
    "outputId": "4ffba886-5821-48fe-ff25-8d9e4ce47dc5"
   },
   "outputs": [
    {
     "data": {
      "text/plain": [
       "((16810, 22), (2936, 22))"
      ]
     },
     "execution_count": 106,
     "metadata": {},
     "output_type": "execute_result"
    }
   ],
   "source": [
    "df.shape,df1.shape"
   ]
  },
  {
   "cell_type": "code",
   "execution_count": 107,
   "metadata": {
    "id": "PtjB0-kyiIoU"
   },
   "outputs": [],
   "source": [
    "#Creating Y_train and X_train\n",
    "y_train_full = df['PropertyEvaluationvalue']\n",
    "X_train_full = df.copy().drop(\"PropertyEvaluationvalue\",axis=1)\n",
    "#y_train_full = X_train_full.filter([\"PropertyEvaluationvalue\"],axis=1)\n"
   ]
  },
  {
   "cell_type": "code",
   "execution_count": 108,
   "metadata": {
    "id": "1MTgzfOziIqg"
   },
   "outputs": [],
   "source": [
    "#Droping the belw columns as there many uniue values in them and also may be only one value\n",
    "X_train_full.drop(['State','Surroundings','Address','PropertyID','DateOfEvaluation','BldgClass_AtEvaluationTime'], axis=1, inplace=True)\n",
    "df1.drop(['State','Surroundings','Address','PropertyID','DateOfEvaluation','BldgClass_AtEvaluationTime'], axis=1, inplace=True)\n",
    "\n"
   ]
  },
  {
   "cell_type": "code",
   "execution_count": 109,
   "metadata": {
    "colab": {
     "base_uri": "https://localhost:8080/"
    },
    "id": "cFDmja6ZiItm",
    "outputId": "b5d7401f-639f-4102-ac18-0e2a19fe2420"
   },
   "outputs": [
    {
     "data": {
      "text/plain": [
       "((16810, 15), (2936, 16), (16810,))"
      ]
     },
     "execution_count": 109,
     "metadata": {},
     "output_type": "execute_result"
    }
   ],
   "source": [
    "X_train_full.shape,df1.shape,y_train_full.shape"
   ]
  },
  {
   "cell_type": "code",
   "execution_count": 110,
   "metadata": {
    "colab": {
     "base_uri": "https://localhost:8080/"
    },
    "id": "n3DLw85WiIv1",
    "outputId": "e8cdc590-9f2f-4cd4-a861-16a85ac35e9a"
   },
   "outputs": [
    {
     "name": "stdout",
     "output_type": "stream",
     "text": [
      "['Borough', 'BldgClassCategory', 'TaxClass_AtEvaluationTime']\n",
      "['ZipCode', 'Block', 'Lot', 'NoOfResidentialUnits', 'NoOfCommercialUnits', 'TotalNoOfUnits', 'LandAreaInSqFt', 'GrossAreaInSqFt', 'YearOfConstruction', 'AgeOfProperty', 'DaysSinceDateofEvaluation', 'MonthOfEvaluation']\n"
     ]
    }
   ],
   "source": [
    "cat_cols_new,num_cols_new=get_cat_num_cols(X_train_full)\n",
    "print(cat_cols_new)\n",
    "print(num_cols_new)"
   ]
  },
  {
   "cell_type": "code",
   "execution_count": 111,
   "metadata": {
    "colab": {
     "base_uri": "https://localhost:8080/"
    },
    "id": "S1APNiF8iIy8",
    "outputId": "c2cc5001-39c9-4a28-e4a6-01a0b073ebc1"
   },
   "outputs": [
    {
     "name": "stdout",
     "output_type": "stream",
     "text": [
      "['Borough', 'BldgClassCategory', 'TaxClass_AtEvaluationTime']\n",
      "['ZipCode', 'Block', 'Lot', 'NoOfResidentialUnits', 'NoOfCommercialUnits', 'TotalNoOfUnits', 'LandAreaInSqFt', 'GrossAreaInSqFt', 'YearOfConstruction', 'AgeOfProperty', 'DaysSinceDateofEvaluation', 'MonthOfEvaluation', 'PropertyEvaluationvalue']\n"
     ]
    }
   ],
   "source": [
    "cat_cols_new,num_cols_new=get_cat_num_cols(df1)\n",
    "print(cat_cols_new)\n",
    "print(num_cols_new)"
   ]
  },
  {
   "cell_type": "code",
   "execution_count": 112,
   "metadata": {
    "colab": {
     "base_uri": "https://localhost:8080/"
    },
    "id": "wzNS7GlqiI1D",
    "outputId": "e77d1f47-9e2c-4b00-fb82-03a959bf32ba"
   },
   "outputs": [
    {
     "name": "stdout",
     "output_type": "stream",
     "text": [
      "---------------------------\n",
      "Column= Borough\n",
      "missing in tst= []\n",
      "missing in trn= []\n",
      "---------------------------\n",
      "\n",
      "---------------------------\n",
      "Column= BldgClassCategory\n",
      "missing in tst= ['Class7']\n",
      "missing in trn= []\n",
      "---------------------------\n",
      "\n",
      "---------------------------\n",
      "Column= TaxClass_AtEvaluationTime\n",
      "missing in tst= []\n",
      "missing in trn= []\n",
      "---------------------------\n",
      "\n"
     ]
    }
   ],
   "source": [
    "#We want to see whether the levels in the test and train datasets are same or not and we see that there is no Class7 in test data\n",
    "show_cats_in_catcols(X_train_full,df1,cat_cols_new)"
   ]
  },
  {
   "cell_type": "code",
   "execution_count": 113,
   "metadata": {
    "colab": {
     "base_uri": "https://localhost:8080/"
    },
    "id": "BH5ONI-5iI4w",
    "outputId": "8e5eeab7-3161-47ec-a798-4a8ed071756d"
   },
   "outputs": [
    {
     "name": "stdout",
     "output_type": "stream",
     "text": [
      "['Borough', 'BldgClassCategory', 'TaxClass_AtEvaluationTime', 'ZipCode', 'Block', 'Lot', 'NoOfResidentialUnits', 'NoOfCommercialUnits', 'TotalNoOfUnits', 'LandAreaInSqFt', 'GrossAreaInSqFt', 'YearOfConstruction', 'AgeOfProperty', 'DaysSinceDateofEvaluation', 'MonthOfEvaluation', 'PropertyEvaluationvalue']\n"
     ]
    }
   ],
   "source": [
    "all_cols=cat_cols_new+num_cols_new\n",
    "print(all_cols)"
   ]
  },
  {
   "cell_type": "code",
   "execution_count": 114,
   "metadata": {
    "id": "sJADeBZYiI6i"
   },
   "outputs": [],
   "source": [
    "#Creting Dummies\n",
    "X_train_full=pd.get_dummies(X_train_full,drop_first=True)\n",
    "X_test=pd.get_dummies(df1,drop_first=True)"
   ]
  },
  {
   "cell_type": "code",
   "execution_count": 115,
   "metadata": {
    "colab": {
     "base_uri": "https://localhost:8080/"
    },
    "id": "WGLvKNk3iI95",
    "outputId": "686ef3f2-cf06-4019-f3c0-bffc2578bdce"
   },
   "outputs": [
    {
     "data": {
      "text/plain": [
       "((16810, 24), (2936, 16))"
      ]
     },
     "execution_count": 115,
     "metadata": {},
     "output_type": "execute_result"
    }
   ],
   "source": [
    "X_train_full.shape,df1.shape"
   ]
  },
  {
   "cell_type": "code",
   "execution_count": 116,
   "metadata": {
    "colab": {
     "base_uri": "https://localhost:8080/"
    },
    "id": "aWX4Hcy0iI_l",
    "outputId": "554cfacf-95ba-4155-888c-638c2d971815"
   },
   "outputs": [
    {
     "name": "stdout",
     "output_type": "stream",
     "text": [
      "Index(['ZipCode', 'Block', 'Lot', 'NoOfResidentialUnits',\n",
      "       'NoOfCommercialUnits', 'TotalNoOfUnits', 'LandAreaInSqFt',\n",
      "       'GrossAreaInSqFt', 'YearOfConstruction', 'AgeOfProperty',\n",
      "       'DaysSinceDateofEvaluation', 'MonthOfEvaluation', 'Borough_2',\n",
      "       'Borough_3', 'Borough_4', 'Borough_5', 'BldgClassCategory_Class3',\n",
      "       'BldgClassCategory_Class1', 'BldgClassCategory_Class4',\n",
      "       'BldgClassCategory_Class5', 'BldgClassCategory_Class6',\n",
      "       'BldgClassCategory_Class7', 'TaxClass_AtEvaluationTime_2',\n",
      "       'TaxClass_AtEvaluationTime_4'],\n",
      "      dtype='object')\n"
     ]
    }
   ],
   "source": [
    "print(X_train_full.columns)"
   ]
  },
  {
   "cell_type": "code",
   "execution_count": 117,
   "metadata": {
    "colab": {
     "base_uri": "https://localhost:8080/"
    },
    "id": "oqVYQgwuiJBw",
    "outputId": "541452cc-cd8c-4752-9d9c-a84c7ad3ce02"
   },
   "outputs": [
    {
     "data": {
      "text/plain": [
       "Index(['Borough', 'ZipCode', 'Block', 'Lot', 'BldgClassCategory',\n",
       "       'NoOfResidentialUnits', 'NoOfCommercialUnits', 'TotalNoOfUnits',\n",
       "       'LandAreaInSqFt', 'GrossAreaInSqFt', 'YearOfConstruction',\n",
       "       'TaxClass_AtEvaluationTime', 'AgeOfProperty',\n",
       "       'DaysSinceDateofEvaluation', 'MonthOfEvaluation',\n",
       "       'PropertyEvaluationvalue'],\n",
       "      dtype='object')"
      ]
     },
     "execution_count": 117,
     "metadata": {},
     "output_type": "execute_result"
    }
   ],
   "source": [
    "df1.columns"
   ]
  },
  {
   "cell_type": "code",
   "execution_count": 118,
   "metadata": {
    "colab": {
     "base_uri": "https://localhost:8080/"
    },
    "id": "aHFFhmpm4HUd",
    "outputId": "c6cfeecf-e86e-4825-9bc7-1975bca05411"
   },
   "outputs": [
    {
     "data": {
      "text/plain": [
       "(16810,)"
      ]
     },
     "execution_count": 118,
     "metadata": {},
     "output_type": "execute_result"
    }
   ],
   "source": [
    "y_train_full.shape"
   ]
  },
  {
   "cell_type": "code",
   "execution_count": 153,
   "metadata": {
    "id": "CPSBZcKS4HYo"
   },
   "outputs": [],
   "source": [
    "#Train-test Split of the data\n",
    "X_train,X_val,y_train,y_val=train_test_split(X_train_full,y_train_full,test_size=0.1,random_state=400)"
   ]
  },
  {
   "cell_type": "code",
   "execution_count": 154,
   "metadata": {
    "id": "DBQ3V1zx4Hai"
   },
   "outputs": [],
   "source": [
    "num_cols_new=['ZipCode', 'Block', 'Lot', 'NoOfResidentialUnits', 'NoOfCommercialUnits', 'TotalNoOfUnits', 'LandAreaInSqFt',\n",
    "              'GrossAreaInSqFt', 'YearOfConstruction', 'AgeOfProperty', 'DaysSinceDateofEvaluation', 'MonthOfEvaluation']\n",
    "\n",
    "sc=StandardScaler()\n",
    "X_train[num_cols_new]=sc.fit_transform(X_train[num_cols_new])\n",
    "\n",
    "X_val[num_cols_new]=sc.transform(X_val[num_cols_new])\n",
    "\n",
    "X_test[num_cols_new]=sc.transform(X_test[num_cols_new])\n"
   ]
  },
  {
   "cell_type": "code",
   "execution_count": 155,
   "metadata": {
    "colab": {
     "base_uri": "https://localhost:8080/"
    },
    "id": "A8IMMFt-4HcX",
    "outputId": "d18ad7f3-5559-48de-f251-bf6176ee35a7"
   },
   "outputs": [
    {
     "name": "stdout",
     "output_type": "stream",
     "text": [
      "(15129, 24) (15129,) (1681, 24) (1681,) (2936, 24)\n"
     ]
    }
   ],
   "source": [
    "print(X_train.shape,y_train.shape,X_val.shape,y_val.shape,X_test.shape)"
   ]
  },
  {
   "cell_type": "code",
   "execution_count": 156,
   "metadata": {
    "colab": {
     "base_uri": "https://localhost:8080/"
    },
    "id": "BE_s5yjhCtTw",
    "outputId": "43bfff6a-96ec-4320-b716-55c4538b4bc6"
   },
   "outputs": [
    {
     "data": {
      "text/plain": [
       "0        PR11101\n",
       "1        PR11102\n",
       "2        PR11103\n",
       "3        PR11104\n",
       "4        PR11105\n",
       "          ...   \n",
       "16805    PR27906\n",
       "16806    PR27907\n",
       "16807    PR27908\n",
       "16808    PR27909\n",
       "16809    PR27910\n",
       "Name: PropertyID, Length: 16810, dtype: category\n",
       "Categories (16810, object): ['PR11101', 'PR11102', 'PR11103', 'PR11104', ..., 'PR27907', 'PR27908',\n",
       "                             'PR27909', 'PR27910']"
      ]
     },
     "execution_count": 156,
     "metadata": {},
     "output_type": "execute_result"
    }
   ],
   "source": [
    "df.PropertyID"
   ]
  },
  {
   "cell_type": "code",
   "execution_count": 157,
   "metadata": {
    "colab": {
     "base_uri": "https://localhost:8080/"
    },
    "id": "_WanLHeHCtfe",
    "outputId": "67def02c-995c-4f60-a807-d2a49af18228"
   },
   "outputs": [
    {
     "data": {
      "text/plain": [
       "0         540000\n",
       "1         750000\n",
       "2         470000\n",
       "3         570000\n",
       "4         640000\n",
       "          ...   \n",
       "16805    8454562\n",
       "16806    6250000\n",
       "16807    7150000\n",
       "16808     550000\n",
       "16809    5000000\n",
       "Name: PropertyEvaluationvalue, Length: 16810, dtype: int64"
      ]
     },
     "execution_count": 157,
     "metadata": {},
     "output_type": "execute_result"
    }
   ],
   "source": [
    "df.PropertyEvaluationvalue"
   ]
  },
  {
   "cell_type": "code",
   "execution_count": 212,
   "metadata": {
    "colab": {
     "base_uri": "https://localhost:8080/"
    },
    "id": "pVymtkCq4He7",
    "outputId": "4cb303dc-f1ef-4a73-d2ac-9777a0f80570"
   },
   "outputs": [
    {
     "name": "stdout",
     "output_type": "stream",
     "text": [
      "Train MAPE= 50.915762836619\n",
      "Val MAPE= 53.56574349909937\n"
     ]
    }
   ],
   "source": [
    "#linear regression\n",
    "lm=LinearRegression()\n",
    "lm.fit(X_train,y_train)\n",
    "y_train_pred=lm.predict(X_train)\n",
    "y_val_pred=lm.predict(X_val)\n",
    "print(\"Train MAPE=\",mean_absolute_percentage_error(y_train, y_train_pred))\n",
    "print(\"Val MAPE=\",mean_absolute_percentage_error(y_val, y_val_pred))"
   ]
  },
  {
   "cell_type": "code",
   "execution_count": 234,
   "metadata": {
    "id": "ifbSh99PfrEt"
   },
   "outputs": [],
   "source": [
    "predi=pd.DataFrame(df[\"PropertyID\"])"
   ]
  },
  {
   "cell_type": "code",
   "execution_count": 235,
   "metadata": {
    "id": "7zRXd61KgFja"
   },
   "outputs": [],
   "source": [
    "enqi=pd.DataFrame(pred,columns=[\"PropertyEvaluationvalue\"])"
   ]
  },
  {
   "cell_type": "code",
   "execution_count": 236,
   "metadata": {
    "id": "JiDb0-MjfrHz"
   },
   "outputs": [],
   "source": [
    "final=pd.concat([predi,enqi],axis=1)"
   ]
  },
  {
   "cell_type": "code",
   "execution_count": 237,
   "metadata": {
    "colab": {
     "base_uri": "https://localhost:8080/",
     "height": 206
    },
    "id": "WDP5inJNfrJT",
    "outputId": "c67d1861-1ca3-432d-be36-4f88e4f12344"
   },
   "outputs": [
    {
     "data": {
      "text/html": [
       "\n",
       "  <div id=\"df-cdb2d815-b899-4a17-8718-844fe8ef9bc5\">\n",
       "    <div class=\"colab-df-container\">\n",
       "      <div>\n",
       "<style scoped>\n",
       "    .dataframe tbody tr th:only-of-type {\n",
       "        vertical-align: middle;\n",
       "    }\n",
       "\n",
       "    .dataframe tbody tr th {\n",
       "        vertical-align: top;\n",
       "    }\n",
       "\n",
       "    .dataframe thead th {\n",
       "        text-align: right;\n",
       "    }\n",
       "</style>\n",
       "<table border=\"1\" class=\"dataframe\">\n",
       "  <thead>\n",
       "    <tr style=\"text-align: right;\">\n",
       "      <th></th>\n",
       "      <th>PropertyID</th>\n",
       "      <th>PropertyEvaluationvalue</th>\n",
       "    </tr>\n",
       "  </thead>\n",
       "  <tbody>\n",
       "    <tr>\n",
       "      <th>0</th>\n",
       "      <td>PR11101</td>\n",
       "      <td>6.759586e+05</td>\n",
       "    </tr>\n",
       "    <tr>\n",
       "      <th>1</th>\n",
       "      <td>PR11102</td>\n",
       "      <td>3.881871e+05</td>\n",
       "    </tr>\n",
       "    <tr>\n",
       "      <th>2</th>\n",
       "      <td>PR11103</td>\n",
       "      <td>4.341511e+05</td>\n",
       "    </tr>\n",
       "    <tr>\n",
       "      <th>3</th>\n",
       "      <td>PR11104</td>\n",
       "      <td>2.164756e+06</td>\n",
       "    </tr>\n",
       "    <tr>\n",
       "      <th>4</th>\n",
       "      <td>PR11105</td>\n",
       "      <td>5.694965e+05</td>\n",
       "    </tr>\n",
       "  </tbody>\n",
       "</table>\n",
       "</div>\n",
       "      <button class=\"colab-df-convert\" onclick=\"convertToInteractive('df-cdb2d815-b899-4a17-8718-844fe8ef9bc5')\"\n",
       "              title=\"Convert this dataframe to an interactive table.\"\n",
       "              style=\"display:none;\">\n",
       "        \n",
       "  <svg xmlns=\"http://www.w3.org/2000/svg\" height=\"24px\"viewBox=\"0 0 24 24\"\n",
       "       width=\"24px\">\n",
       "    <path d=\"M0 0h24v24H0V0z\" fill=\"none\"/>\n",
       "    <path d=\"M18.56 5.44l.94 2.06.94-2.06 2.06-.94-2.06-.94-.94-2.06-.94 2.06-2.06.94zm-11 1L8.5 8.5l.94-2.06 2.06-.94-2.06-.94L8.5 2.5l-.94 2.06-2.06.94zm10 10l.94 2.06.94-2.06 2.06-.94-2.06-.94-.94-2.06-.94 2.06-2.06.94z\"/><path d=\"M17.41 7.96l-1.37-1.37c-.4-.4-.92-.59-1.43-.59-.52 0-1.04.2-1.43.59L10.3 9.45l-7.72 7.72c-.78.78-.78 2.05 0 2.83L4 21.41c.39.39.9.59 1.41.59.51 0 1.02-.2 1.41-.59l7.78-7.78 2.81-2.81c.8-.78.8-2.07 0-2.86zM5.41 20L4 18.59l7.72-7.72 1.47 1.35L5.41 20z\"/>\n",
       "  </svg>\n",
       "      </button>\n",
       "      \n",
       "  <style>\n",
       "    .colab-df-container {\n",
       "      display:flex;\n",
       "      flex-wrap:wrap;\n",
       "      gap: 12px;\n",
       "    }\n",
       "\n",
       "    .colab-df-convert {\n",
       "      background-color: #E8F0FE;\n",
       "      border: none;\n",
       "      border-radius: 50%;\n",
       "      cursor: pointer;\n",
       "      display: none;\n",
       "      fill: #1967D2;\n",
       "      height: 32px;\n",
       "      padding: 0 0 0 0;\n",
       "      width: 32px;\n",
       "    }\n",
       "\n",
       "    .colab-df-convert:hover {\n",
       "      background-color: #E2EBFA;\n",
       "      box-shadow: 0px 1px 2px rgba(60, 64, 67, 0.3), 0px 1px 3px 1px rgba(60, 64, 67, 0.15);\n",
       "      fill: #174EA6;\n",
       "    }\n",
       "\n",
       "    [theme=dark] .colab-df-convert {\n",
       "      background-color: #3B4455;\n",
       "      fill: #D2E3FC;\n",
       "    }\n",
       "\n",
       "    [theme=dark] .colab-df-convert:hover {\n",
       "      background-color: #434B5C;\n",
       "      box-shadow: 0px 1px 3px 1px rgba(0, 0, 0, 0.15);\n",
       "      filter: drop-shadow(0px 1px 2px rgba(0, 0, 0, 0.3));\n",
       "      fill: #FFFFFF;\n",
       "    }\n",
       "  </style>\n",
       "\n",
       "      <script>\n",
       "        const buttonEl =\n",
       "          document.querySelector('#df-cdb2d815-b899-4a17-8718-844fe8ef9bc5 button.colab-df-convert');\n",
       "        buttonEl.style.display =\n",
       "          google.colab.kernel.accessAllowed ? 'block' : 'none';\n",
       "\n",
       "        async function convertToInteractive(key) {\n",
       "          const element = document.querySelector('#df-cdb2d815-b899-4a17-8718-844fe8ef9bc5');\n",
       "          const dataTable =\n",
       "            await google.colab.kernel.invokeFunction('convertToInteractive',\n",
       "                                                     [key], {});\n",
       "          if (!dataTable) return;\n",
       "\n",
       "          const docLinkHtml = 'Like what you see? Visit the ' +\n",
       "            '<a target=\"_blank\" href=https://colab.research.google.com/notebooks/data_table.ipynb>data table notebook</a>'\n",
       "            + ' to learn more about interactive tables.';\n",
       "          element.innerHTML = '';\n",
       "          dataTable['output_type'] = 'display_data';\n",
       "          await google.colab.output.renderOutput(dataTable, element);\n",
       "          const docLink = document.createElement('div');\n",
       "          docLink.innerHTML = docLinkHtml;\n",
       "          element.appendChild(docLink);\n",
       "        }\n",
       "      </script>\n",
       "    </div>\n",
       "  </div>\n",
       "  "
      ],
      "text/plain": [
       "  PropertyID  PropertyEvaluationvalue\n",
       "0    PR11101             6.759586e+05\n",
       "1    PR11102             3.881871e+05\n",
       "2    PR11103             4.341511e+05\n",
       "3    PR11104             2.164756e+06\n",
       "4    PR11105             5.694965e+05"
      ]
     },
     "execution_count": 237,
     "metadata": {},
     "output_type": "execute_result"
    }
   ],
   "source": [
    "final.head()"
   ]
  },
  {
   "cell_type": "code",
   "execution_count": 238,
   "metadata": {
    "id": "jkA7-kd4frM9"
   },
   "outputs": [],
   "source": [
    "final.to_csv(\"Keerthana.csv\")"
   ]
  }
 ],
 "metadata": {
  "colab": {
   "provenance": []
  },
  "kernelspec": {
   "display_name": "Python 3 (ipykernel)",
   "language": "python",
   "name": "python3"
  },
  "language_info": {
   "codemirror_mode": {
    "name": "ipython",
    "version": 3
   },
   "file_extension": ".py",
   "mimetype": "text/x-python",
   "name": "python",
   "nbconvert_exporter": "python",
   "pygments_lexer": "ipython3",
   "version": "3.9.13"
  }
 },
 "nbformat": 4,
 "nbformat_minor": 1
}
